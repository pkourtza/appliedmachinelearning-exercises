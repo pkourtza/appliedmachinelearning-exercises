{
 "cells": [
  {
   "cell_type": "markdown",
   "metadata": {},
   "source": [
    "## Applied Machine Learning 1: includes exercises on linear regression and Naive Bayes classification"
   ]
  },
  {
   "cell_type": "markdown",
   "metadata": {},
   "source": [
    "### Import packages"
   ]
  },
  {
   "cell_type": "code",
   "execution_count": 2,
   "metadata": {},
   "outputs": [
    {
     "name": "stdout",
     "output_type": "stream",
     "text": [
      "All packages imported!\n",
      "python==3.7.6\n",
      "seaborn==0.11.1\n",
      "scikit-learn==0.23.2\n",
      "pandas==1.1.4\n",
      "numpy==1.19.4\n",
      "matplotlib==3.2.2\n"
     ]
    }
   ],
   "source": [
    "import os\n",
    "import platform\n",
    "import sys\n",
    "import sklearn\n",
    "import numpy as np\n",
    "np.random.seed(260393)\n",
    "import pandas as pd\n",
    "import seaborn as sns\n",
    "import matplotlib as mp\n",
    "import matplotlib.pyplot as plt\n",
    "from sklearn.metrics import accuracy_score, f1_score, precision_score, recall_score\n",
    "from sklearn.naive_bayes import CategoricalNB\n",
    "from sklearn.linear_model import LinearRegression\n",
    "from sklearn.metrics import r2_score, mean_squared_error\n",
    "from sklearn.metrics import classification_report,confusion_matrix\n",
    "from sklearn.model_selection import train_test_split\n",
    "from sklearn.preprocessing import OrdinalEncoder\n",
    "\n",
    "import warnings \n",
    "warnings.filterwarnings('ignore')\n",
    "\n",
    "print(\"All packages imported!\")\n",
    "print(\"python=={}\".format(platform.python_version()))\n",
    "print(\"seaborn=={}\".format(sns.__version__))\n",
    "print(\"scikit-learn=={}\".format(sklearn.__version__))\n",
    "print(\"pandas=={}\".format(pd.__version__))\n",
    "print(\"numpy=={}\".format(np.__version__))\n",
    "print(\"matplotlib=={}\".format(mp.__version__))\n",
    "\n",
    "# You should see this output:\n",
    "# All packages imported!\n",
    "# python==3.7.6\n",
    "# seaborn==0.11.1\n",
    "# scikit-learn==0.23.2\n",
    "# pandas==1.1.4\n",
    "# numpy==1.19.4\n",
    "# matplotlib==3.2.2"
   ]
  },
  {
   "cell_type": "markdown",
   "metadata": {},
   "source": [
    "\\pagebreak"
   ]
  },
  {
   "cell_type": "markdown",
   "metadata": {},
   "source": [
    "# Part 1 Linear Regression\n",
    "\n",
    "### House Prices Dataset\n",
    "\n",
    "The aim of this task is to predict house prices in Melbourne, Victoria, Australia using Linear Regression. The dataset consists of [historic data of houses sold over several years](https://www.kaggle.com/anthonypino/melbourne-housing-market).\n",
    "\n",
    "\n",
    "***Attribute description:***\n",
    "\n",
    "- Suburb: Suburb\n",
    "- Address: Address\n",
    "- Rooms: Number of bedrooms\n",
    "- Price: Price in Australian dollars\n",
    "- Method: sale method (we won't use this)\n",
    "- Type: h (house), u (apartment), t (townhouse)\n",
    "- SellerG: Real Estate Agent\n",
    "- Date: Date sold\n",
    "- Distance: Distance from Central Business District in kilometres\n",
    "- Regionname: General Region\n",
    "- Propertycount: Number of properties that exist in the suburb.\n",
    "- Bedroom2 : Scraped # of Bedrooms (from different source)\n",
    "- Bathroom: Number of Bathrooms\n",
    "- Car: Number of carspots\n",
    "- Landsize: Land Size in Sq. Metres\n",
    "- BuildingArea: Building Size in Sq. Metres\n",
    "- YearBuilt: Year the house was built\n",
    "- CouncilArea: Governing council for the area\n",
    "- Lattitude: Latitude\n",
    "- Longtitude: Longitude\n"
   ]
  },
  {
   "cell_type": "markdown",
   "metadata": {},
   "source": [
    "\\pagebreak"
   ]
  },
  {
   "cell_type": "markdown",
   "metadata": {},
   "source": [
    "# ========== 1.1 =========="
   ]
  },
  {
   "cell_type": "markdown",
   "metadata": {},
   "source": [
    "(1) How do regression and classification tasks differ in Machine Learning? Give an example of each."
   ]
  },
  {
   "cell_type": "markdown",
   "metadata": {},
   "source": [
    "(1) ***Answer***\n",
    "\n",
    "Regression and classification are both supervised machine learning tasks that differ in terms of what they are trying to predict. In regression the target is a numeric value, whereas in classification the target is a category / class. In other words, in regression the target variable is continuous, whereas in classification the target variable is discrete.\n",
    "\n",
    "An example of a regression task is trying to predict the annual salary of a population based on the level of education using historic data of annual salaries and different levels of education.\n",
    "An example of a classification task is digit classification where we are given a dataset of images of hand written digits and we need to label them by recognising which digit they represent."
   ]
  },
  {
   "cell_type": "markdown",
   "metadata": {},
   "source": [
    "(2) Read in the Melbourne housing data and name it ***aushouse***. Use functions to describe the dataset."
   ]
  },
  {
   "cell_type": "markdown",
   "metadata": {},
   "source": [
    "In the cells below, we read in the data set, use functions to describe it and also do some preprocessing to inspect and visualise the data."
   ]
  },
  {
   "cell_type": "code",
   "execution_count": 3,
   "metadata": {},
   "outputs": [
    {
     "name": "stdout",
     "output_type": "stream",
     "text": [
      "Number of data points in aushouse data set: 34857\n",
      "Number of attributes in aushouse data set: 21\n"
     ]
    },
    {
     "data": {
      "text/html": [
       "<div>\n",
       "<style scoped>\n",
       "    .dataframe tbody tr th:only-of-type {\n",
       "        vertical-align: middle;\n",
       "    }\n",
       "\n",
       "    .dataframe tbody tr th {\n",
       "        vertical-align: top;\n",
       "    }\n",
       "\n",
       "    .dataframe thead th {\n",
       "        text-align: right;\n",
       "    }\n",
       "</style>\n",
       "<table border=\"1\" class=\"dataframe\">\n",
       "  <thead>\n",
       "    <tr style=\"text-align: right;\">\n",
       "      <th></th>\n",
       "      <th>Suburb</th>\n",
       "      <th>Address</th>\n",
       "      <th>Rooms</th>\n",
       "      <th>Type</th>\n",
       "      <th>Price</th>\n",
       "      <th>Method</th>\n",
       "      <th>SellerG</th>\n",
       "      <th>Date</th>\n",
       "      <th>Distance</th>\n",
       "      <th>Postcode</th>\n",
       "      <th>Bedroom2</th>\n",
       "      <th>Bathroom</th>\n",
       "      <th>Car</th>\n",
       "      <th>Landsize</th>\n",
       "      <th>BuildingArea</th>\n",
       "      <th>YearBuilt</th>\n",
       "      <th>CouncilArea</th>\n",
       "      <th>Lattitude</th>\n",
       "      <th>Longtitude</th>\n",
       "      <th>Regionname</th>\n",
       "      <th>Propertycount</th>\n",
       "    </tr>\n",
       "  </thead>\n",
       "  <tbody>\n",
       "    <tr>\n",
       "      <th>0</th>\n",
       "      <td>Abbotsford</td>\n",
       "      <td>68 Studley St</td>\n",
       "      <td>2</td>\n",
       "      <td>h</td>\n",
       "      <td>NaN</td>\n",
       "      <td>SS</td>\n",
       "      <td>Jellis</td>\n",
       "      <td>3/09/2016</td>\n",
       "      <td>2.5</td>\n",
       "      <td>3067.0</td>\n",
       "      <td>2.0</td>\n",
       "      <td>1.0</td>\n",
       "      <td>1.0</td>\n",
       "      <td>126.0</td>\n",
       "      <td>NaN</td>\n",
       "      <td>NaN</td>\n",
       "      <td>Yarra City Council</td>\n",
       "      <td>-37.8014</td>\n",
       "      <td>144.9958</td>\n",
       "      <td>Northern Metropolitan</td>\n",
       "      <td>4019.0</td>\n",
       "    </tr>\n",
       "    <tr>\n",
       "      <th>1</th>\n",
       "      <td>Abbotsford</td>\n",
       "      <td>85 Turner St</td>\n",
       "      <td>2</td>\n",
       "      <td>h</td>\n",
       "      <td>1480000.0</td>\n",
       "      <td>S</td>\n",
       "      <td>Biggin</td>\n",
       "      <td>3/12/2016</td>\n",
       "      <td>2.5</td>\n",
       "      <td>3067.0</td>\n",
       "      <td>2.0</td>\n",
       "      <td>1.0</td>\n",
       "      <td>1.0</td>\n",
       "      <td>202.0</td>\n",
       "      <td>NaN</td>\n",
       "      <td>NaN</td>\n",
       "      <td>Yarra City Council</td>\n",
       "      <td>-37.7996</td>\n",
       "      <td>144.9984</td>\n",
       "      <td>Northern Metropolitan</td>\n",
       "      <td>4019.0</td>\n",
       "    </tr>\n",
       "    <tr>\n",
       "      <th>2</th>\n",
       "      <td>Abbotsford</td>\n",
       "      <td>25 Bloomburg St</td>\n",
       "      <td>2</td>\n",
       "      <td>h</td>\n",
       "      <td>1035000.0</td>\n",
       "      <td>S</td>\n",
       "      <td>Biggin</td>\n",
       "      <td>4/02/2016</td>\n",
       "      <td>2.5</td>\n",
       "      <td>3067.0</td>\n",
       "      <td>2.0</td>\n",
       "      <td>1.0</td>\n",
       "      <td>0.0</td>\n",
       "      <td>156.0</td>\n",
       "      <td>79.0</td>\n",
       "      <td>1900.0</td>\n",
       "      <td>Yarra City Council</td>\n",
       "      <td>-37.8079</td>\n",
       "      <td>144.9934</td>\n",
       "      <td>Northern Metropolitan</td>\n",
       "      <td>4019.0</td>\n",
       "    </tr>\n",
       "    <tr>\n",
       "      <th>3</th>\n",
       "      <td>Abbotsford</td>\n",
       "      <td>18/659 Victoria St</td>\n",
       "      <td>3</td>\n",
       "      <td>u</td>\n",
       "      <td>NaN</td>\n",
       "      <td>VB</td>\n",
       "      <td>Rounds</td>\n",
       "      <td>4/02/2016</td>\n",
       "      <td>2.5</td>\n",
       "      <td>3067.0</td>\n",
       "      <td>3.0</td>\n",
       "      <td>2.0</td>\n",
       "      <td>1.0</td>\n",
       "      <td>0.0</td>\n",
       "      <td>NaN</td>\n",
       "      <td>NaN</td>\n",
       "      <td>Yarra City Council</td>\n",
       "      <td>-37.8114</td>\n",
       "      <td>145.0116</td>\n",
       "      <td>Northern Metropolitan</td>\n",
       "      <td>4019.0</td>\n",
       "    </tr>\n",
       "    <tr>\n",
       "      <th>4</th>\n",
       "      <td>Abbotsford</td>\n",
       "      <td>5 Charles St</td>\n",
       "      <td>3</td>\n",
       "      <td>h</td>\n",
       "      <td>1465000.0</td>\n",
       "      <td>SP</td>\n",
       "      <td>Biggin</td>\n",
       "      <td>4/03/2017</td>\n",
       "      <td>2.5</td>\n",
       "      <td>3067.0</td>\n",
       "      <td>3.0</td>\n",
       "      <td>2.0</td>\n",
       "      <td>0.0</td>\n",
       "      <td>134.0</td>\n",
       "      <td>150.0</td>\n",
       "      <td>1900.0</td>\n",
       "      <td>Yarra City Council</td>\n",
       "      <td>-37.8093</td>\n",
       "      <td>144.9944</td>\n",
       "      <td>Northern Metropolitan</td>\n",
       "      <td>4019.0</td>\n",
       "    </tr>\n",
       "  </tbody>\n",
       "</table>\n",
       "</div>"
      ],
      "text/plain": [
       "       Suburb             Address  Rooms Type      Price Method SellerG  \\\n",
       "0  Abbotsford       68 Studley St      2    h        NaN     SS  Jellis   \n",
       "1  Abbotsford        85 Turner St      2    h  1480000.0      S  Biggin   \n",
       "2  Abbotsford     25 Bloomburg St      2    h  1035000.0      S  Biggin   \n",
       "3  Abbotsford  18/659 Victoria St      3    u        NaN     VB  Rounds   \n",
       "4  Abbotsford        5 Charles St      3    h  1465000.0     SP  Biggin   \n",
       "\n",
       "        Date  Distance  Postcode  Bedroom2  Bathroom  Car  Landsize  \\\n",
       "0  3/09/2016       2.5    3067.0       2.0       1.0  1.0     126.0   \n",
       "1  3/12/2016       2.5    3067.0       2.0       1.0  1.0     202.0   \n",
       "2  4/02/2016       2.5    3067.0       2.0       1.0  0.0     156.0   \n",
       "3  4/02/2016       2.5    3067.0       3.0       2.0  1.0       0.0   \n",
       "4  4/03/2017       2.5    3067.0       3.0       2.0  0.0     134.0   \n",
       "\n",
       "   BuildingArea  YearBuilt         CouncilArea  Lattitude  Longtitude  \\\n",
       "0           NaN        NaN  Yarra City Council   -37.8014    144.9958   \n",
       "1           NaN        NaN  Yarra City Council   -37.7996    144.9984   \n",
       "2          79.0     1900.0  Yarra City Council   -37.8079    144.9934   \n",
       "3           NaN        NaN  Yarra City Council   -37.8114    145.0116   \n",
       "4         150.0     1900.0  Yarra City Council   -37.8093    144.9944   \n",
       "\n",
       "              Regionname  Propertycount  \n",
       "0  Northern Metropolitan         4019.0  \n",
       "1  Northern Metropolitan         4019.0  \n",
       "2  Northern Metropolitan         4019.0  \n",
       "3  Northern Metropolitan         4019.0  \n",
       "4  Northern Metropolitan         4019.0  "
      ]
     },
     "execution_count": 3,
     "metadata": {},
     "output_type": "execute_result"
    }
   ],
   "source": [
    "#(2) \n",
    "# Load the dataset\n",
    "data_path = os.path.join(os.getcwd(), 'datasets', 'Melbourne_housing.csv')\n",
    "aushouse = pd.read_csv(data_path, delimiter=',')\n",
    "\n",
    "# Display number of data points and number of attributes\n",
    "print('Number of data points in aushouse data set: {}'.format(aushouse.shape[0]))\n",
    "print('Number of attributes in aushouse data set: {}'.format(aushouse.shape[1]))\n",
    "\n",
    "# Display also the first 5 data points\n",
    "pd.set_option('display.max_columns', None)\n",
    "aushouse.head(5)"
   ]
  },
  {
   "cell_type": "code",
   "execution_count": 4,
   "metadata": {},
   "outputs": [
    {
     "name": "stdout",
     "output_type": "stream",
     "text": [
      "<class 'pandas.core.frame.DataFrame'>\n",
      "RangeIndex: 34857 entries, 0 to 34856\n",
      "Data columns (total 21 columns):\n",
      " #   Column         Non-Null Count  Dtype  \n",
      "---  ------         --------------  -----  \n",
      " 0   Suburb         34857 non-null  object \n",
      " 1   Address        34857 non-null  object \n",
      " 2   Rooms          34857 non-null  int64  \n",
      " 3   Type           34857 non-null  object \n",
      " 4   Price          27247 non-null  float64\n",
      " 5   Method         34857 non-null  object \n",
      " 6   SellerG        34857 non-null  object \n",
      " 7   Date           34857 non-null  object \n",
      " 8   Distance       34856 non-null  float64\n",
      " 9   Postcode       34856 non-null  float64\n",
      " 10  Bedroom2       26640 non-null  float64\n",
      " 11  Bathroom       26631 non-null  float64\n",
      " 12  Car            26129 non-null  float64\n",
      " 13  Landsize       23047 non-null  float64\n",
      " 14  BuildingArea   13742 non-null  float64\n",
      " 15  YearBuilt      15551 non-null  float64\n",
      " 16  CouncilArea    34854 non-null  object \n",
      " 17  Lattitude      26881 non-null  float64\n",
      " 18  Longtitude     26881 non-null  float64\n",
      " 19  Regionname     34854 non-null  object \n",
      " 20  Propertycount  34854 non-null  float64\n",
      "dtypes: float64(12), int64(1), object(8)\n",
      "memory usage: 5.6+ MB\n"
     ]
    }
   ],
   "source": [
    "# Display a summary of our dataset to check what type of values each attribute takes\n",
    "aushouse.info()"
   ]
  },
  {
   "cell_type": "code",
   "execution_count": 5,
   "metadata": {},
   "outputs": [
    {
     "data": {
      "text/html": [
       "<div>\n",
       "<style scoped>\n",
       "    .dataframe tbody tr th:only-of-type {\n",
       "        vertical-align: middle;\n",
       "    }\n",
       "\n",
       "    .dataframe tbody tr th {\n",
       "        vertical-align: top;\n",
       "    }\n",
       "\n",
       "    .dataframe thead th {\n",
       "        text-align: right;\n",
       "    }\n",
       "</style>\n",
       "<table border=\"1\" class=\"dataframe\">\n",
       "  <thead>\n",
       "    <tr style=\"text-align: right;\">\n",
       "      <th></th>\n",
       "      <th>Rooms</th>\n",
       "      <th>Price</th>\n",
       "      <th>Distance</th>\n",
       "      <th>Bedroom2</th>\n",
       "      <th>Bathroom</th>\n",
       "      <th>Car</th>\n",
       "      <th>Landsize</th>\n",
       "      <th>BuildingArea</th>\n",
       "      <th>YearBuilt</th>\n",
       "      <th>Lattitude</th>\n",
       "      <th>Longtitude</th>\n",
       "      <th>Propertycount</th>\n",
       "    </tr>\n",
       "  </thead>\n",
       "  <tbody>\n",
       "    <tr>\n",
       "      <th>count</th>\n",
       "      <td>34857.000000</td>\n",
       "      <td>2.724700e+04</td>\n",
       "      <td>34856.000000</td>\n",
       "      <td>26640.000000</td>\n",
       "      <td>26631.000000</td>\n",
       "      <td>26129.000000</td>\n",
       "      <td>23047.000000</td>\n",
       "      <td>13742.00000</td>\n",
       "      <td>15551.000000</td>\n",
       "      <td>26881.000000</td>\n",
       "      <td>26881.000000</td>\n",
       "      <td>34854.000000</td>\n",
       "    </tr>\n",
       "    <tr>\n",
       "      <th>mean</th>\n",
       "      <td>3.031012</td>\n",
       "      <td>1.050173e+06</td>\n",
       "      <td>11.184929</td>\n",
       "      <td>3.084647</td>\n",
       "      <td>1.624798</td>\n",
       "      <td>1.728845</td>\n",
       "      <td>593.598993</td>\n",
       "      <td>160.25640</td>\n",
       "      <td>1965.284097</td>\n",
       "      <td>-37.810634</td>\n",
       "      <td>145.001851</td>\n",
       "      <td>7572.888306</td>\n",
       "    </tr>\n",
       "    <tr>\n",
       "      <th>std</th>\n",
       "      <td>0.969933</td>\n",
       "      <td>6.414671e+05</td>\n",
       "      <td>6.788892</td>\n",
       "      <td>0.980690</td>\n",
       "      <td>0.724212</td>\n",
       "      <td>1.010771</td>\n",
       "      <td>3398.841946</td>\n",
       "      <td>401.26706</td>\n",
       "      <td>37.313335</td>\n",
       "      <td>0.090279</td>\n",
       "      <td>0.120169</td>\n",
       "      <td>4428.090313</td>\n",
       "    </tr>\n",
       "    <tr>\n",
       "      <th>min</th>\n",
       "      <td>1.000000</td>\n",
       "      <td>8.500000e+04</td>\n",
       "      <td>0.000000</td>\n",
       "      <td>0.000000</td>\n",
       "      <td>0.000000</td>\n",
       "      <td>0.000000</td>\n",
       "      <td>0.000000</td>\n",
       "      <td>0.00000</td>\n",
       "      <td>1196.000000</td>\n",
       "      <td>-38.190430</td>\n",
       "      <td>144.423790</td>\n",
       "      <td>83.000000</td>\n",
       "    </tr>\n",
       "    <tr>\n",
       "      <th>25%</th>\n",
       "      <td>2.000000</td>\n",
       "      <td>6.350000e+05</td>\n",
       "      <td>6.400000</td>\n",
       "      <td>2.000000</td>\n",
       "      <td>1.000000</td>\n",
       "      <td>1.000000</td>\n",
       "      <td>224.000000</td>\n",
       "      <td>102.00000</td>\n",
       "      <td>1940.000000</td>\n",
       "      <td>-37.862950</td>\n",
       "      <td>144.933500</td>\n",
       "      <td>4385.000000</td>\n",
       "    </tr>\n",
       "    <tr>\n",
       "      <th>50%</th>\n",
       "      <td>3.000000</td>\n",
       "      <td>8.700000e+05</td>\n",
       "      <td>10.300000</td>\n",
       "      <td>3.000000</td>\n",
       "      <td>2.000000</td>\n",
       "      <td>2.000000</td>\n",
       "      <td>521.000000</td>\n",
       "      <td>136.00000</td>\n",
       "      <td>1970.000000</td>\n",
       "      <td>-37.807600</td>\n",
       "      <td>145.007800</td>\n",
       "      <td>6763.000000</td>\n",
       "    </tr>\n",
       "    <tr>\n",
       "      <th>75%</th>\n",
       "      <td>4.000000</td>\n",
       "      <td>1.295000e+06</td>\n",
       "      <td>14.000000</td>\n",
       "      <td>4.000000</td>\n",
       "      <td>2.000000</td>\n",
       "      <td>2.000000</td>\n",
       "      <td>670.000000</td>\n",
       "      <td>188.00000</td>\n",
       "      <td>2000.000000</td>\n",
       "      <td>-37.754100</td>\n",
       "      <td>145.071900</td>\n",
       "      <td>10412.000000</td>\n",
       "    </tr>\n",
       "    <tr>\n",
       "      <th>max</th>\n",
       "      <td>16.000000</td>\n",
       "      <td>1.120000e+07</td>\n",
       "      <td>48.100000</td>\n",
       "      <td>30.000000</td>\n",
       "      <td>12.000000</td>\n",
       "      <td>26.000000</td>\n",
       "      <td>433014.000000</td>\n",
       "      <td>44515.00000</td>\n",
       "      <td>2019.000000</td>\n",
       "      <td>-37.390200</td>\n",
       "      <td>145.526350</td>\n",
       "      <td>21650.000000</td>\n",
       "    </tr>\n",
       "  </tbody>\n",
       "</table>\n",
       "</div>"
      ],
      "text/plain": [
       "              Rooms         Price      Distance      Bedroom2      Bathroom  \\\n",
       "count  34857.000000  2.724700e+04  34856.000000  26640.000000  26631.000000   \n",
       "mean       3.031012  1.050173e+06     11.184929      3.084647      1.624798   \n",
       "std        0.969933  6.414671e+05      6.788892      0.980690      0.724212   \n",
       "min        1.000000  8.500000e+04      0.000000      0.000000      0.000000   \n",
       "25%        2.000000  6.350000e+05      6.400000      2.000000      1.000000   \n",
       "50%        3.000000  8.700000e+05     10.300000      3.000000      2.000000   \n",
       "75%        4.000000  1.295000e+06     14.000000      4.000000      2.000000   \n",
       "max       16.000000  1.120000e+07     48.100000     30.000000     12.000000   \n",
       "\n",
       "                Car       Landsize  BuildingArea     YearBuilt     Lattitude  \\\n",
       "count  26129.000000   23047.000000   13742.00000  15551.000000  26881.000000   \n",
       "mean       1.728845     593.598993     160.25640   1965.284097    -37.810634   \n",
       "std        1.010771    3398.841946     401.26706     37.313335      0.090279   \n",
       "min        0.000000       0.000000       0.00000   1196.000000    -38.190430   \n",
       "25%        1.000000     224.000000     102.00000   1940.000000    -37.862950   \n",
       "50%        2.000000     521.000000     136.00000   1970.000000    -37.807600   \n",
       "75%        2.000000     670.000000     188.00000   2000.000000    -37.754100   \n",
       "max       26.000000  433014.000000   44515.00000   2019.000000    -37.390200   \n",
       "\n",
       "         Longtitude  Propertycount  \n",
       "count  26881.000000   34854.000000  \n",
       "mean     145.001851    7572.888306  \n",
       "std        0.120169    4428.090313  \n",
       "min      144.423790      83.000000  \n",
       "25%      144.933500    4385.000000  \n",
       "50%      145.007800    6763.000000  \n",
       "75%      145.071900   10412.000000  \n",
       "max      145.526350   21650.000000  "
      ]
     },
     "execution_count": 5,
     "metadata": {},
     "output_type": "execute_result"
    }
   ],
   "source": [
    "# Convert attributes that are object type to categorical. \n",
    "# Convert also Postcode which is treated as 'float64' but should be treated as categorical\n",
    "cat = aushouse.select_dtypes(include='O').columns\n",
    "aushouse[cat] = aushouse[cat].astype('category')\n",
    "aushouse['Postcode'] = aushouse['Postcode'].astype('category')\n",
    "\n",
    "# The dataset has a mixture of categorical and numeric data so we will display the descriptive statistics separately\n",
    "# Descriptive statistics for numeric data\n",
    "aushouse.describe(include=np.number)"
   ]
  },
  {
   "cell_type": "code",
   "execution_count": 6,
   "metadata": {},
   "outputs": [
    {
     "data": {
      "text/html": [
       "<div>\n",
       "<style scoped>\n",
       "    .dataframe tbody tr th:only-of-type {\n",
       "        vertical-align: middle;\n",
       "    }\n",
       "\n",
       "    .dataframe tbody tr th {\n",
       "        vertical-align: top;\n",
       "    }\n",
       "\n",
       "    .dataframe thead th {\n",
       "        text-align: right;\n",
       "    }\n",
       "</style>\n",
       "<table border=\"1\" class=\"dataframe\">\n",
       "  <thead>\n",
       "    <tr style=\"text-align: right;\">\n",
       "      <th></th>\n",
       "      <th>Suburb</th>\n",
       "      <th>Address</th>\n",
       "      <th>Type</th>\n",
       "      <th>Method</th>\n",
       "      <th>SellerG</th>\n",
       "      <th>Date</th>\n",
       "      <th>Postcode</th>\n",
       "      <th>CouncilArea</th>\n",
       "      <th>Regionname</th>\n",
       "    </tr>\n",
       "  </thead>\n",
       "  <tbody>\n",
       "    <tr>\n",
       "      <th>count</th>\n",
       "      <td>34857</td>\n",
       "      <td>34857</td>\n",
       "      <td>34857</td>\n",
       "      <td>34857</td>\n",
       "      <td>34857</td>\n",
       "      <td>34857</td>\n",
       "      <td>34856.0</td>\n",
       "      <td>34854</td>\n",
       "      <td>34854</td>\n",
       "    </tr>\n",
       "    <tr>\n",
       "      <th>unique</th>\n",
       "      <td>351</td>\n",
       "      <td>34009</td>\n",
       "      <td>3</td>\n",
       "      <td>9</td>\n",
       "      <td>388</td>\n",
       "      <td>78</td>\n",
       "      <td>211.0</td>\n",
       "      <td>33</td>\n",
       "      <td>8</td>\n",
       "    </tr>\n",
       "    <tr>\n",
       "      <th>top</th>\n",
       "      <td>Reservoir</td>\n",
       "      <td>5 Charles St</td>\n",
       "      <td>h</td>\n",
       "      <td>S</td>\n",
       "      <td>Jellis</td>\n",
       "      <td>28/10/2017</td>\n",
       "      <td>3073.0</td>\n",
       "      <td>Boroondara City Council</td>\n",
       "      <td>Southern Metropolitan</td>\n",
       "    </tr>\n",
       "    <tr>\n",
       "      <th>freq</th>\n",
       "      <td>844</td>\n",
       "      <td>6</td>\n",
       "      <td>23980</td>\n",
       "      <td>19744</td>\n",
       "      <td>3359</td>\n",
       "      <td>1119</td>\n",
       "      <td>844.0</td>\n",
       "      <td>3675</td>\n",
       "      <td>11836</td>\n",
       "    </tr>\n",
       "  </tbody>\n",
       "</table>\n",
       "</div>"
      ],
      "text/plain": [
       "           Suburb       Address   Type Method SellerG        Date  Postcode  \\\n",
       "count       34857         34857  34857  34857   34857       34857   34856.0   \n",
       "unique        351         34009      3      9     388          78     211.0   \n",
       "top     Reservoir  5 Charles St      h      S  Jellis  28/10/2017    3073.0   \n",
       "freq          844             6  23980  19744    3359        1119     844.0   \n",
       "\n",
       "                    CouncilArea             Regionname  \n",
       "count                     34854                  34854  \n",
       "unique                       33                      8  \n",
       "top     Boroondara City Council  Southern Metropolitan  \n",
       "freq                       3675                  11836  "
      ]
     },
     "execution_count": 6,
     "metadata": {},
     "output_type": "execute_result"
    }
   ],
   "source": [
    "# Descriptive statistics for categorical data\n",
    "aushouse.describe(include=['category'])"
   ]
  },
  {
   "cell_type": "code",
   "execution_count": 7,
   "metadata": {
    "scrolled": true
   },
   "outputs": [
    {
     "data": {
      "text/html": [
       "<div>\n",
       "<style scoped>\n",
       "    .dataframe tbody tr th:only-of-type {\n",
       "        vertical-align: middle;\n",
       "    }\n",
       "\n",
       "    .dataframe tbody tr th {\n",
       "        vertical-align: top;\n",
       "    }\n",
       "\n",
       "    .dataframe thead th {\n",
       "        text-align: right;\n",
       "    }\n",
       "</style>\n",
       "<table border=\"1\" class=\"dataframe\">\n",
       "  <thead>\n",
       "    <tr style=\"text-align: right;\">\n",
       "      <th></th>\n",
       "      <th>Suburb</th>\n",
       "      <th>Address</th>\n",
       "      <th>Rooms</th>\n",
       "      <th>Type</th>\n",
       "      <th>Price</th>\n",
       "      <th>Method</th>\n",
       "      <th>SellerG</th>\n",
       "      <th>Date</th>\n",
       "      <th>Distance</th>\n",
       "      <th>Postcode</th>\n",
       "      <th>Bedroom2</th>\n",
       "      <th>Bathroom</th>\n",
       "      <th>Car</th>\n",
       "      <th>Landsize</th>\n",
       "      <th>BuildingArea</th>\n",
       "      <th>YearBuilt</th>\n",
       "      <th>CouncilArea</th>\n",
       "      <th>Lattitude</th>\n",
       "      <th>Longtitude</th>\n",
       "      <th>Regionname</th>\n",
       "      <th>Propertycount</th>\n",
       "    </tr>\n",
       "  </thead>\n",
       "  <tbody>\n",
       "    <tr>\n",
       "      <th>Missing (% of total)</th>\n",
       "      <td>0.0</td>\n",
       "      <td>0.0</td>\n",
       "      <td>0.0</td>\n",
       "      <td>0.0</td>\n",
       "      <td>21.832057</td>\n",
       "      <td>0.0</td>\n",
       "      <td>0.0</td>\n",
       "      <td>0.0</td>\n",
       "      <td>0.002869</td>\n",
       "      <td>0.002869</td>\n",
       "      <td>23.573457</td>\n",
       "      <td>23.599277</td>\n",
       "      <td>25.039447</td>\n",
       "      <td>33.881286</td>\n",
       "      <td>60.576068</td>\n",
       "      <td>55.386293</td>\n",
       "      <td>0.008607</td>\n",
       "      <td>22.882061</td>\n",
       "      <td>22.882061</td>\n",
       "      <td>0.008607</td>\n",
       "      <td>0.008607</td>\n",
       "    </tr>\n",
       "  </tbody>\n",
       "</table>\n",
       "</div>"
      ],
      "text/plain": [
       "                      Suburb  Address  Rooms  Type      Price  Method  \\\n",
       "Missing (% of total)     0.0      0.0    0.0   0.0  21.832057     0.0   \n",
       "\n",
       "                      SellerG  Date  Distance  Postcode   Bedroom2   Bathroom  \\\n",
       "Missing (% of total)      0.0   0.0  0.002869  0.002869  23.573457  23.599277   \n",
       "\n",
       "                            Car   Landsize  BuildingArea  YearBuilt  \\\n",
       "Missing (% of total)  25.039447  33.881286     60.576068  55.386293   \n",
       "\n",
       "                      CouncilArea  Lattitude  Longtitude  Regionname  \\\n",
       "Missing (% of total)     0.008607  22.882061   22.882061    0.008607   \n",
       "\n",
       "                      Propertycount  \n",
       "Missing (% of total)       0.008607  "
      ]
     },
     "execution_count": 7,
     "metadata": {},
     "output_type": "execute_result"
    }
   ],
   "source": [
    "# Check the share of data points that are missing from each attribute\n",
    "nanvals = aushouse.isna().sum(axis=0).values/aushouse.shape[0]*100\n",
    "pd.DataFrame(data=nanvals.reshape(1,aushouse.shape[1]), \n",
    "             columns=aushouse.columns, index=['Missing (% of total)'])"
   ]
  },
  {
   "cell_type": "code",
   "execution_count": 8,
   "metadata": {},
   "outputs": [
    {
     "data": {
      "image/png": "[encoded data removed]",
      "text/plain": [
       "<Figure size 432x288 with 1 Axes>"
      ]
     },
     "metadata": {
      "needs_background": "light"
     },
     "output_type": "display_data"
    }
   ],
   "source": [
    "# Display a histogram for Price to visualise the distribution of values\n",
    "sns.distplot(aushouse['Price'], rug=True)\n",
    "plt.show()"
   ]
  },
  {
   "cell_type": "markdown",
   "metadata": {},
   "source": [
    "(3) Comment on the characteristics of the attributes just displayed, including where data might be missing. Describe two different strategies for dealing with the missing data."
   ]
  },
  {
   "cell_type": "markdown",
   "metadata": {},
   "source": [
    "(3) ***Answer***\n",
    "\n",
    "There are 21 attributes in total in this dataset, 8 categorical and 13 numeric. The attribute `Postcode` is read in initially as numeric but is converted as categorical as its values have no real numeric meaning (can't be added, multiplied, compared etc). All numeric attributes are floating type except for Rooms which is integer type. Looking at the `Price` attribute and how it is described, its mean value is $1\\cdot 10^6$  and its standard deviation is $6.4 \\cdot 10^5$ which is quite high. 75% of `Price` data fall under $1.3 \\cdot 10^6$ and the max value is at $1.12 \\cdot 10^7$. Looking also at the histogram of `Price` values, we verify that the majority of values are in the range $0 - 0.4 \\cdot 10^6$ but there are some extreme values which could affect our analysis. \n",
    "\n",
    "The total number of instances are 34857. Looking at the counts (number of instances) for each column, there are many attributes with missing values. The only attributes that don't have missing values (and therefore values for all 34857 instances) are: `Suburb, Address, Rooms, Type, Method, SellerG, Date`. It is important to note that the `Price` attribute, which will be our target variable, also has missing instances. The attributes with the most missing values are `BuildingArea` and `YearBuilt`. These attributes have missing values for ~55% and ~60% of the total datapoints respectively, which shows that it might be good to remove these columns from the dataset before fitting our model.\n",
    "\n",
    "In terms of dealing with the missing data, it depends on the meaning of the missing data and if there is any significance in the fact that a value is missing. Two different strategies of dealing with missing data are:\n",
    "1. Remove instances with missing data. This will ensure that we end up with a dataset with no NaN (missing) values but it will reduce the size of our dataset.\n",
    "2. Replace instances with missing data with either the attribute mean or median (if numeric feature) or the most frequent attribute value (if categorical feature). This will result in our dataset not changing in size. However, replacing with the mean/median will not always be appropriate. For example replacing missing `Price` values with the mean will have an effect on our linear model which might not be what we want.\n",
    "\n",
    "An alternative way of dealing with data is doing a combination of the above two strategies. For example deleting instances with missing `Price` values and then for the remaining attributes with missing values, fill these with the attribute mean or median."
   ]
  },
  {
   "cell_type": "markdown",
   "metadata": {},
   "source": [
    "\\pagebreak"
   ]
  },
  {
   "cell_type": "markdown",
   "metadata": {},
   "source": [
    "# ========== 1.2 =========="
   ]
  },
  {
   "cell_type": "markdown",
   "metadata": {},
   "source": [
    "(1) One feature that could well be important in predicting price is the Type of property (house, apartment or townhouse).  What type of feature is this, and why can't we use it in linear regression?  Describe a method for using information from this type of feature in linear regression (6)"
   ]
  },
  {
   "cell_type": "markdown",
   "metadata": {},
   "source": [
    "(1)  ***Answer***\n",
    "\n",
    "`Type` of property is a categorical feature which takes values h=house, u=apartment, t=townhouse. Categorical features can't be used in linear regression unless converted to numerical form because you cannot perform arithmetic operations with categorical data. The values (h,u,t) could be converted to numerical form (1,2,3) in order to be used in linear regression but this could create problems as there is a natural ordering in (1,2,3) and a linear regression model could learn and use this ordering to learn properties that are not meant to be learnt.\n",
    "\n",
    "To overcome this issue with categorical features, we will use one-hot encoding. In one-hot encoding every unique category value is represented in the dataset as a new attribute taking binary values (0 or 1 depending on if it is present or not present). By performing one-hot encoding in the `Type` attribute we will result with three binary attributes one for each `Type` category (`h, t, u`)."
   ]
  },
  {
   "cell_type": "markdown",
   "metadata": {},
   "source": [
    "(2) Convert the Type feature using the method you described above (if they used a different method, if you can easily see if their code matches their method then give them marks for it). Remove features which cannot be used for linear regression, and the YearBuilt feature which we won't use, and show a correlation heatmap with values"
   ]
  },
  {
   "cell_type": "code",
   "execution_count": 9,
   "metadata": {},
   "outputs": [
    {
     "name": "stdout",
     "output_type": "stream",
     "text": [
      "Number of attributes in clean dataset: 13\n"
     ]
    }
   ],
   "source": [
    "# (2) \n",
    "# Make a copy of the aushouse dataset\n",
    "aushouse_clean = aushouse.copy()\n",
    "\n",
    "# Convert the Type feature using one-hot encoding\n",
    "type_1hot = pd.get_dummies(aushouse['Type'])\n",
    "aushouse_clean = pd.concat([aushouse_clean.drop(['Type'], axis=1), type_1hot], axis=1)\n",
    "\n",
    "# Drop the features YearBuilt, Method which are specified that we won't use\n",
    "# Method is the sale method and it is mentioned that we won't use it in the attribute description in the introduction\n",
    "aushouse_clean.drop(['YearBuilt','Method'], axis=1, inplace=True)\n",
    "\n",
    "# Drop the other categorical features that can't be used in linear regression\n",
    "aushouse_clean.drop(labels=aushouse_clean.select_dtypes(include='category').columns, axis=1, inplace=True)\n",
    "\n",
    "# Drop the feature BuildingArea which has more than 60% of values missing\n",
    "aushouse_clean.drop(['BuildingArea'], axis=1, inplace=True)\n",
    "\n",
    "# Display the number of attributes in the clean dataset\n",
    "print('Number of attributes in clean dataset: {}'.format(aushouse_clean.shape[1]))"
   ]
  },
  {
   "cell_type": "markdown",
   "metadata": {},
   "source": [
    "The correlation heatmap with values is included in the following question Q 1.3 (1)."
   ]
  },
  {
   "cell_type": "markdown",
   "metadata": {},
   "source": [
    "\\pagebreak"
   ]
  },
  {
   "cell_type": "markdown",
   "metadata": {},
   "source": [
    "# ========== 1.3 ========== "
   ]
  },
  {
   "cell_type": "markdown",
   "metadata": {},
   "source": [
    "(1) Show a correlation heatmap with values."
   ]
  },
  {
   "cell_type": "code",
   "execution_count": 10,
   "metadata": {},
   "outputs": [
    {
     "data": {
      "image/png": "[encoded data removed]",
      "text/plain": [
       "<Figure size 1152x432 with 2 Axes>"
      ]
     },
     "metadata": {
      "needs_background": "light"
     },
     "output_type": "display_data"
    }
   ],
   "source": [
    "# (1)\n",
    "# Plot a correlation heatmap for all attributes of the clean dataset\n",
    "# We use the Pearson correlation coefficient for calculating coefficients between all variables\n",
    "plt.figure(figsize=(16,6))\n",
    "hmap = sns.heatmap(aushouse_clean.corr(method='pearson'), vmin=-1, vmax=1, annot=True, cmap='BrBG')\n",
    "hmap.set_title('Correlation heatmap for Australian housing dataset')\n",
    "plt.show()"
   ]
  },
  {
   "cell_type": "markdown",
   "metadata": {},
   "source": [
    "(2) Comment on what you see in the correlation heatmap values, with regard to this task.  Which features could you drop, and why?"
   ]
  },
  {
   "cell_type": "markdown",
   "metadata": {},
   "source": [
    "(2) ***Answer***\n",
    "\n",
    "Correlation coefficients give an indication of the level of correlation between two variables. Correlation coefficient values range from -1 to 1, with 1 and -1 indicating perfect positive and negative correlation respectively and 0 indicating no correlation between two variables. In this case we use the Pearson correlation coefficient which is used as a measure of linear correlation.\n",
    "\n",
    "On the correlation heatmap we firstly look at the correlation of all features with `Price` (the target variable). We see that there are a number of features with low correlation values with `Price`: `Landsize, Propertycount, t`. These three features have overall lower correlation coefficient values with `Price` compared to the other features (lower than 0.1). This indicates that there is probably not a strong relationship between these features and `Price`.\n",
    "\n",
    "Dropping features could depend on the correlation threshold that we set. Considering a threshold value of 0.1 we would drop the features: `Landsize, Propertycount, t`. However, the feature `t` is a feature that was created after one-hot encoding feature `Type` and if we remove it, we would remove a part of that feature while keeping its two other categories (h, u). We will therefore not drop feature `t` even though it shows to have a low correlation with `Price`, because it completes feature `Type` together with `h` and `u` . We will however drop features `Landsize` and `Propertycount` which show low correlation with `Price`.\n",
    "\n",
    "We also notice that features `Rooms` and `Bedroom2` have a correlation of 0.95 which is very close to 1, so they provide almost identical information. We can remove this redundancy by dropping one of the two.\n",
    "We verify this also by observing the values these two features take. We will drop the feature `Bedroom2` which has a lower correlation coefficient with `Price` compared to `Rooms` (Rooms-Price:0.47, Bedroom2-Price:0.43)."
   ]
  },
  {
   "cell_type": "markdown",
   "metadata": {},
   "source": [
    "(3) Drop the features you have identified, and remove any instances with missing attribute values."
   ]
  },
  {
   "cell_type": "code",
   "execution_count": 11,
   "metadata": {},
   "outputs": [
    {
     "name": "stdout",
     "output_type": "stream",
     "text": [
      "Features with correlation coefficients lower than 0.1: ['Landsize' 'Propertycount' 't']\n"
     ]
    }
   ],
   "source": [
    "# (3)\n",
    "# Verify which features have correlation with Price less than 0.1\n",
    "aushouse_cor = aushouse_clean.corr()['Price']\n",
    "print('Features with correlation coefficients lower than 0.1: {}'\n",
    "      .format(aushouse_cor[aushouse_cor.abs() < 0.1].index.values))"
   ]
  },
  {
   "cell_type": "code",
   "execution_count": 12,
   "metadata": {},
   "outputs": [
    {
     "data": {
      "text/html": [
       "<div>\n",
       "<style scoped>\n",
       "    .dataframe tbody tr th:only-of-type {\n",
       "        vertical-align: middle;\n",
       "    }\n",
       "\n",
       "    .dataframe tbody tr th {\n",
       "        vertical-align: top;\n",
       "    }\n",
       "\n",
       "    .dataframe thead th {\n",
       "        text-align: right;\n",
       "    }\n",
       "</style>\n",
       "<table border=\"1\" class=\"dataframe\">\n",
       "  <thead>\n",
       "    <tr style=\"text-align: right;\">\n",
       "      <th></th>\n",
       "      <th>Rooms</th>\n",
       "      <th>Bedroom2</th>\n",
       "    </tr>\n",
       "  </thead>\n",
       "  <tbody>\n",
       "    <tr>\n",
       "      <th>0</th>\n",
       "      <td>2</td>\n",
       "      <td>2.0</td>\n",
       "    </tr>\n",
       "    <tr>\n",
       "      <th>1</th>\n",
       "      <td>2</td>\n",
       "      <td>2.0</td>\n",
       "    </tr>\n",
       "    <tr>\n",
       "      <th>2</th>\n",
       "      <td>2</td>\n",
       "      <td>2.0</td>\n",
       "    </tr>\n",
       "    <tr>\n",
       "      <th>3</th>\n",
       "      <td>3</td>\n",
       "      <td>3.0</td>\n",
       "    </tr>\n",
       "    <tr>\n",
       "      <th>4</th>\n",
       "      <td>3</td>\n",
       "      <td>3.0</td>\n",
       "    </tr>\n",
       "    <tr>\n",
       "      <th>...</th>\n",
       "      <td>...</td>\n",
       "      <td>...</td>\n",
       "    </tr>\n",
       "    <tr>\n",
       "      <th>34852</th>\n",
       "      <td>4</td>\n",
       "      <td>4.0</td>\n",
       "    </tr>\n",
       "    <tr>\n",
       "      <th>34853</th>\n",
       "      <td>2</td>\n",
       "      <td>2.0</td>\n",
       "    </tr>\n",
       "    <tr>\n",
       "      <th>34854</th>\n",
       "      <td>2</td>\n",
       "      <td>2.0</td>\n",
       "    </tr>\n",
       "    <tr>\n",
       "      <th>34855</th>\n",
       "      <td>3</td>\n",
       "      <td>NaN</td>\n",
       "    </tr>\n",
       "    <tr>\n",
       "      <th>34856</th>\n",
       "      <td>2</td>\n",
       "      <td>2.0</td>\n",
       "    </tr>\n",
       "  </tbody>\n",
       "</table>\n",
       "<p>34857 rows × 2 columns</p>\n",
       "</div>"
      ],
      "text/plain": [
       "       Rooms  Bedroom2\n",
       "0          2       2.0\n",
       "1          2       2.0\n",
       "2          2       2.0\n",
       "3          3       3.0\n",
       "4          3       3.0\n",
       "...      ...       ...\n",
       "34852      4       4.0\n",
       "34853      2       2.0\n",
       "34854      2       2.0\n",
       "34855      3       NaN\n",
       "34856      2       2.0\n",
       "\n",
       "[34857 rows x 2 columns]"
      ]
     },
     "execution_count": 12,
     "metadata": {},
     "output_type": "execute_result"
    }
   ],
   "source": [
    "# Observe data for features Rooms and Bedroom2 and verify that they are similar\n",
    "aushouse_clean[['Rooms','Bedroom2']]"
   ]
  },
  {
   "cell_type": "code",
   "execution_count": 13,
   "metadata": {},
   "outputs": [
    {
     "name": "stdout",
     "output_type": "stream",
     "text": [
      "Number of data points in clean dataset: 20401\n",
      "Number of attributes in clean dataset: 10\n"
     ]
    }
   ],
   "source": [
    "# Drop features Landsize and Propertycount which have correlation coefficient values with Price <0.1\n",
    "dropfeat = ['Landsize', 'Propertycount']\n",
    "aushouse_clean.drop(dropfeat, axis=1, inplace=True)\n",
    "\n",
    "# Drop feature Bedroom2 as it similar to Rooms\n",
    "aushouse_clean.drop(['Bedroom2'], axis=1, inplace=True)\n",
    "\n",
    "# Remove instances with missing attribute values\n",
    "aushouse_clean.dropna(axis=0, inplace=True)\n",
    "\n",
    "# Display the number of data points and number of attributes in the clean dataset\n",
    "print('Number of data points in clean dataset: {}'.format(aushouse_clean.shape[0]))\n",
    "print('Number of attributes in clean dataset: {}'.format(aushouse_clean.shape[1]))"
   ]
  },
  {
   "cell_type": "markdown",
   "metadata": {},
   "source": [
    "After dropping the features we have identified as not useful for this task and also after removing missing attribute values, we also check the dataset for any obvious outliers. Outliers could have an impact on the performance of our linear regression model."
   ]
  },
  {
   "cell_type": "code",
   "execution_count": 14,
   "metadata": {},
   "outputs": [
    {
     "data": {
      "image/png": "[encoded data removed]",
      "text/plain": [
       "<Figure size 1296x216 with 6 Axes>"
      ]
     },
     "metadata": {
      "needs_background": "light"
     },
     "output_type": "display_data"
    }
   ],
   "source": [
    "# Visualise the dataset to check for any outliers\n",
    "g = sns.pairplot(data=aushouse_clean, y_vars=['Price'], \n",
    "                 x_vars=['Rooms', 'Distance', 'Bathroom', 'Car', 'Lattitude', 'Longtitude'], \n",
    "                 height=3)"
   ]
  },
  {
   "cell_type": "markdown",
   "metadata": {},
   "source": [
    "Visualising the data, helps us identify any obvious outliers in the data. The attributes with the most obvious extreme data points are `Price` (our target variable) and `Rooms`. \n",
    "From the scatterplots we see that most `Price` values are below $0.6 \\cdot 10^7$ but there a few price values that are higher than this. This matches with what we had observed in the beginning in Question 1.1 by looking at the histogram of `Price` values. We will remove instances with `Price` values over $0.6 \\cdot 10^7$. <br>\n",
    "From the scatterplot we also see that most `Room` values are below 10 but there are some instances with rooms over 10 and one extreme point with 16 rooms. We will remove instances with `Room` values 10 or more. "
   ]
  },
  {
   "cell_type": "code",
   "execution_count": 15,
   "metadata": {
    "scrolled": true
   },
   "outputs": [
    {
     "data": {
      "image/png": "[encoded data removed]",
      "text/plain": [
       "<Figure size 1296x216 with 6 Axes>"
      ]
     },
     "metadata": {
      "needs_background": "light"
     },
     "output_type": "display_data"
    }
   ],
   "source": [
    "# Remove outliers: prices that are over 0.6x10^7 and rooms over 10\n",
    "aushouse_clean = aushouse_clean[aushouse_clean['Price']<0.6e7]\n",
    "aushouse_clean = aushouse_clean[aushouse_clean['Rooms']<10]\n",
    "\n",
    "# Visualise again the dataset after removing the outliers\n",
    "g = sns.pairplot(data=aushouse_clean, y_vars=['Price'], \n",
    "                 x_vars=['Rooms', 'Distance', 'Bathroom', 'Car', 'Lattitude', 'Longtitude'], \n",
    "                 height=3)"
   ]
  },
  {
   "cell_type": "code",
   "execution_count": 16,
   "metadata": {},
   "outputs": [
    {
     "name": "stdout",
     "output_type": "stream",
     "text": [
      "Number of data points in clean dataset: 20383\n",
      "Number of attributes in clean dataset: 10\n"
     ]
    }
   ],
   "source": [
    "# Display the final number of data points and attributes in the clean dataset\n",
    "print('Number of data points in clean dataset: {}'.format(aushouse_clean.shape[0]))\n",
    "print('Number of attributes in clean dataset: {}'.format(aushouse_clean.shape[1]))"
   ]
  },
  {
   "cell_type": "markdown",
   "metadata": {},
   "source": [
    "\\pagebreak"
   ]
  },
  {
   "cell_type": "markdown",
   "metadata": {},
   "source": [
    "# ========== 1.4 =========="
   ]
  },
  {
   "cell_type": "markdown",
   "metadata": {},
   "source": [
    "(1) Create ***X*** and ***y*** from <html><var>aushousing</var></html> and then use train_test_split to create training and test set, with the testing set being 20% of the entire data. Set the random_state to 0 for reproducibility."
   ]
  },
  {
   "cell_type": "code",
   "execution_count": 17,
   "metadata": {},
   "outputs": [
    {
     "name": "stdout",
     "output_type": "stream",
     "text": [
      "Number of instances in X set: 20383\n",
      "Number of instances in X_train set: 16306\n",
      "Number of instances in X_test set: 4077\n",
      "Number of instances together in X_train and X_test set: 20383\n"
     ]
    }
   ],
   "source": [
    "#(1)\n",
    "# Create X and y from the clean aushouse dataset\n",
    "X = aushouse_clean.drop(['Price'], axis=1).values\n",
    "y = aushouse_clean['Price'].values\n",
    "X_columns = aushouse_clean.drop(['Price'], axis=1).columns # Keep names of columns\n",
    "\n",
    "# Split the dataset in training and test set with the test set being 20% of the entire data\n",
    "X_train, X_test, y_train, y_test = train_test_split(X, y, test_size=0.2, random_state=0)\n",
    "\n",
    "# Check the split of the dataset in training and test sets \n",
    "print('Number of instances in X set: {}'.format(X.shape[0]))\n",
    "print('Number of instances in X_train set: {}'.format(X_train.shape[0]))\n",
    "print('Number of instances in X_test set: {}'.format(X_test.shape[0]))\n",
    "print('Number of instances together in X_train and X_test set: {}'.format(X_train.shape[0]+X_test.shape[0]))"
   ]
  },
  {
   "cell_type": "markdown",
   "metadata": {},
   "source": [
    "(2) Fit a LinearRegression to the training set, print the intercept and a DataFrame showing the coefficient of each attribute."
   ]
  },
  {
   "cell_type": "code",
   "execution_count": 18,
   "metadata": {},
   "outputs": [
    {
     "name": "stdout",
     "output_type": "stream",
     "text": [
      "Intercept: -184602218.237\n"
     ]
    },
    {
     "data": {
      "text/html": [
       "<div>\n",
       "<style scoped>\n",
       "    .dataframe tbody tr th:only-of-type {\n",
       "        vertical-align: middle;\n",
       "    }\n",
       "\n",
       "    .dataframe tbody tr th {\n",
       "        vertical-align: top;\n",
       "    }\n",
       "\n",
       "    .dataframe thead th {\n",
       "        text-align: right;\n",
       "    }\n",
       "</style>\n",
       "<table border=\"1\" class=\"dataframe\">\n",
       "  <thead>\n",
       "    <tr style=\"text-align: right;\">\n",
       "      <th></th>\n",
       "      <th>Rooms</th>\n",
       "      <th>Distance</th>\n",
       "      <th>Bathroom</th>\n",
       "      <th>Car</th>\n",
       "      <th>Lattitude</th>\n",
       "      <th>Longtitude</th>\n",
       "      <th>h</th>\n",
       "      <th>t</th>\n",
       "      <th>u</th>\n",
       "    </tr>\n",
       "  </thead>\n",
       "  <tbody>\n",
       "    <tr>\n",
       "      <th>coef</th>\n",
       "      <td>168042.330877</td>\n",
       "      <td>-44533.188648</td>\n",
       "      <td>221946.664726</td>\n",
       "      <td>39915.775988</td>\n",
       "      <td>-1.587037e+06</td>\n",
       "      <td>863039.657907</td>\n",
       "      <td>224295.676395</td>\n",
       "      <td>-99586.387595</td>\n",
       "      <td>-244837.815202</td>\n",
       "    </tr>\n",
       "  </tbody>\n",
       "</table>\n",
       "</div>"
      ],
      "text/plain": [
       "              Rooms      Distance       Bathroom           Car     Lattitude  \\\n",
       "coef  168042.330877 -44533.188648  221946.664726  39915.775988 -1.587037e+06   \n",
       "\n",
       "         Longtitude              h             t              u  \n",
       "coef  863039.657907  224295.676395 -99586.387595 -244837.815202  "
      ]
     },
     "execution_count": 18,
     "metadata": {},
     "output_type": "execute_result"
    }
   ],
   "source": [
    "#(2)\n",
    "# Fit a LinearRegression model to the training set\n",
    "reg = LinearRegression(fit_intercept=True, normalize=True, copy_X=True)\n",
    "reg.fit(X_train, y_train)\n",
    "\n",
    "# Display the intercept\n",
    "print('Intercept: {:.3f}'.format(reg.intercept_))\n",
    "\n",
    "# Display a DataFrame with the coefficient of each attribute\n",
    "coefDF = pd.DataFrame(data=reg.coef_.reshape(1,X_train.shape[1]), columns=X_columns, index=['coef'])\n",
    "coefDF"
   ]
  },
  {
   "cell_type": "markdown",
   "metadata": {},
   "source": [
    "(3) Describe the meaning of the intercept and the coefficients. Comment on the coefficients, including their size, and what they tell us about the relationship between the features and the price.  Which house properties affect the price most?  Does the type of property matter much?"
   ]
  },
  {
   "cell_type": "markdown",
   "metadata": {},
   "source": [
    "(3) ***Answer***\n",
    "\n",
    "The intercept is also known as the independent term and is where the fitted line intersects with the y axis. In a simple linear fit of $y = bx + a$, the constant $a$ is the intercept. The intercept has same units as the target variable. In our case the intercept is negative which means that our linear regression model crosses the y-axis in the negative side. If the intercept didn't exist ($a = 0$), then the fitted line would have to go through the origin (0,0) resulting in a bad fit.\n",
    "\n",
    "The coefficients give an indication of the relationship between each feature and the target variable, the price. They are also known as the feature weights. Positive coefficients show that an increase in that feature will result in an increase in price and negative coefficients show that an increase in that feature will result in  a decrease in price (while keeping other features constant). The absolute value of each coefficient gives an indication of how much a feature affects the price (if keeping other features constant).\n",
    "\n",
    "It is important to note that we can compare coefficients because we have normalised the training data when fitting our model (by setting `normalize=True` in our `LinearRegression` model). Normalising the data means scaling them to have unit norm. The absolute value of each coefficient can only be interpreted as an indication of feature importance (how much it affects the target variable) if all features are normalised. \n",
    "\n",
    "The attributes with largest coefficients (absolute values) and therefore the house properties that mostly affect price are: `Lattitude`, `Longtitude`, Type (`h, t, u`), `Bathroom` (number of bathrooms) and `Rooms` (number of bedrooms). Lattitude and Longtitude indicate the property's location. This makes sense to affect the price the most as there could be areas with higher/lower value properties. The type of property (whether the property is a house, apartment or townhouse) also matters a lot. The coefficients show that if the property is a house or townhouse (`h, t`) then this affects the price upwards (positive coefficient), whereas if the property is an apartment (`u`), then this affects the price downwards (negative coefficient)."
   ]
  },
  {
   "cell_type": "markdown",
   "metadata": {},
   "source": [
    "\\pagebreak"
   ]
  },
  {
   "cell_type": "markdown",
   "metadata": {},
   "source": [
    "# ========== 1.5 =========="
   ]
  },
  {
   "cell_type": "markdown",
   "metadata": {},
   "source": [
    "(1) Print the Root Mean Squared Error (RMSE) and <html><var>R<sup>2</sup></var></html>."
   ]
  },
  {
   "cell_type": "code",
   "execution_count": 19,
   "metadata": {},
   "outputs": [
    {
     "name": "stdout",
     "output_type": "stream",
     "text": [
      "Root Mean Squared Error (RMSE) in training set: 429370.992\n",
      "Accuracy score R2 in training set: 0.536\n"
     ]
    }
   ],
   "source": [
    "# (1)\n",
    "# Predict on the training set\n",
    "training_pred = reg.predict(X=X_train)\n",
    "\n",
    "# Calculate and display the Root Mean Squared Error (RMSE) and R2 in the training set\n",
    "print('Root Mean Squared Error (RMSE) in training set: {:.3f}'.format(mean_squared_error(y_train, training_pred, squared=False))) \n",
    "print('Accuracy score R2 in training set: {:.3f}'.format(r2_score(y_train, training_pred)))"
   ]
  },
  {
   "cell_type": "code",
   "execution_count": 20,
   "metadata": {},
   "outputs": [
    {
     "name": "stdout",
     "output_type": "stream",
     "text": [
      "Root Mean Squared Error (RMSE) in test set: 445927.688\n",
      "Accuracy score R2 in test set: 0.532\n"
     ]
    }
   ],
   "source": [
    "# Predict on the test set\n",
    "test_pred = reg.predict(X=X_test)\n",
    "\n",
    "# Calculate and display the Root Mean Squared Error (RMSE) and R2 in the test set\n",
    "print('Root Mean Squared Error (RMSE) in test set: {:.3f}'.format(mean_squared_error(y_test, test_pred, squared=False))) \n",
    "print('Accuracy score R2 in test set: {:.3f}'.format(r2_score(y_test, test_pred)))"
   ]
  },
  {
   "cell_type": "markdown",
   "metadata": {},
   "source": [
    "(2) Explain the meaning and output of the RMSE and <html><var>R<sup>2</sup></var></html>. What do they tell us about the fit of the data?"
   ]
  },
  {
   "cell_type": "markdown",
   "metadata": {},
   "source": [
    "(2) ***Answer***\n",
    "\n",
    "RMSE and $R^2$ are both evaluation metrics for linear regression and give an indication of how good the fit of the model is to the data, in other words measuring how far the model's predictions are from the actual values. MSE (mean squared error) is also the loss function which the linear regression model tries to minimise in order to find the best fit to the data.\n",
    "\n",
    "RMSE is the root MSE (mean squared error) which measures the average squared errors between predicted and actual values. It is a measure of the quality of the predictions and the prediction error, however it is sensitive to mean/scale and outliers. In general, a small RMSE would indicate that the predictions are closer to the actual values, however since RMSE has the same units as the quantity being predicted its values are also affected by the scale of the target variable. In our case RMSE is ~$0.43 \\cdot 10^6$ in the training set and ~$0.44 \\cdot 10^6$ in the test set which means our predictions have an average distance of ~$0.43 \\cdot 10^6$ and ~$0.44 \\cdot 10^6$ from the actual values in the training and test set respectively. Considering that the mean of Price values in our final clean dataset is $1 \\cdot 10^ 6$, this RMSE shows that we have a relatively good fit.\n",
    "\n",
    "$R^2$ is the coefficient of determination defined as $R^2=1 - {SS}_{res} / {SS}_{tot}$ where ${SS}_{res}$ is the sum squares of residuals and ${SS}_{tot}$ is total sum of squares. It is another metric of how well the linear model fits to the actual values. The closer $R^2$ is to 1 the better the fit. An $R^2$ of 0 represents the baseline model which always predicts the mean. An $R^2$ that is negative represents a linear fit that is worse than the baseline.\n",
    "This metric is useful because it is insensitive to mean/scale. In our case $R^2$ is ~0.53 in both the training and test set which shows that we have a relatively good fit but not a perfect fit.\n",
    "\n",
    "Comparing these two evaluation metrics between the training and the test set gives an indication of whether our model is overfitting and how well our model generalises. RMSE and $R^2$ have overall worse values in the test set (higher RMSE and lower $R^2$ in the test set compared to RMSE and $R^2$ in the training set), however they are very close to the scores in the training set. This shows that our model is not overfitting and is generalising well in unseen data (the test set)."
   ]
  },
  {
   "cell_type": "markdown",
   "metadata": {},
   "source": [
    "__The part below is not related to Q 1.5 (2). It is an extra step that we have tried, to improve the fit of the linear model.__ <br>\n",
    "Based on the scatterplots produced in Q 1.3 (3) the feature `Distance` shows a right skewed distribution. We transform it by taking its log, which is a common transformation (as mentioned in the lectures) and is also suitable here because it is a numeric feature with a distribution skewed towards lower values. Taking its log will transform it towards a more normal distribution. To avoid any problems with zero values transformed to $-\\infty$ we also add a small value when performing the log transformation."
   ]
  },
  {
   "cell_type": "code",
   "execution_count": 21,
   "metadata": {},
   "outputs": [],
   "source": [
    "# Take a copy of the aushouse clean dataset\n",
    "aushouse_clean2 = aushouse_clean.copy()\n",
    "\n",
    "# Perform log transformation to the Distance feature adding also a small value to handle log(0)\n",
    "logdistance = np.log(aushouse_clean2['Distance'] + 1)\n",
    "aushouse_transform = pd.concat([aushouse_clean2.drop(['Distance'], axis=1), logdistance], axis=1)"
   ]
  },
  {
   "cell_type": "code",
   "execution_count": 22,
   "metadata": {},
   "outputs": [
    {
     "data": {
      "image/png": "[encoded data removed]",
      "text/plain": [
       "<Figure size 576x288 with 2 Axes>"
      ]
     },
     "metadata": {
      "needs_background": "light"
     },
     "output_type": "display_data"
    }
   ],
   "source": [
    "# Plot the distribution of the Distance feature before and after transformation\n",
    "fig, (ax1, ax2) = plt.subplots(1,2, figsize=(8,4))\n",
    "\n",
    "sns.distplot(aushouse_clean['Distance'], ax=ax1)\n",
    "ax1.set_title('Before log transformation', size=10)\n",
    "sns.distplot(aushouse_transform['Distance'], ax=ax2)\n",
    "ax2.set_title('After log transformation', size=10)\n",
    "ax2.set_xlabel('log(Distance)')\n",
    "ax2.set_ylabel('')\n",
    "plt.show()"
   ]
  },
  {
   "cell_type": "code",
   "execution_count": 23,
   "metadata": {},
   "outputs": [
    {
     "name": "stdout",
     "output_type": "stream",
     "text": [
      "Root Mean Squared Error (RMSE) in training set: 434700.514\n",
      "Accuracy score R2 in training set: 0.524\n",
      "Root Mean Squared Error (RMSE) in test set: 451005.382\n",
      "Accuracy score R2 in test set: 0.521\n"
     ]
    }
   ],
   "source": [
    "# Create X and y from the transformed aushouse dataset\n",
    "X = aushouse_transform.drop(['Price'], axis=1).values\n",
    "y = aushouse_transform['Price'].values\n",
    "\n",
    "# Split in training and test set and fit a linear model\n",
    "X_train, X_test, y_train, y_test = train_test_split(X, y, test_size=0.2, random_state=0)\n",
    "reg = LinearRegression(fit_intercept=True, normalize=True, copy_X=True)\n",
    "reg.fit(X_train, y_train)\n",
    "\n",
    "# Predict on the training set\n",
    "training_pred = reg.predict(X=X_train)\n",
    "\n",
    "# Calculate and display the Root Mean Squared Error (RMSE) and R2 in the training set\n",
    "print('Root Mean Squared Error (RMSE) in training set: {:.3f}'.format(mean_squared_error(y_train, training_pred, squared=False))) \n",
    "print('Accuracy score R2 in training set: {:.3f}'.format(r2_score(y_train, training_pred)))\n",
    "\n",
    "# Predict on the test set\n",
    "test_pred = reg.predict(X=X_test)\n",
    "\n",
    "# Calculate and display the Root Mean Squared Error (RMSE) and R2 in the test set\n",
    "print('Root Mean Squared Error (RMSE) in test set: {:.3f}'.format(mean_squared_error(y_test, test_pred, squared=False))) \n",
    "print('Accuracy score R2 in test set: {:.3f}'.format(r2_score(y_test, test_pred)))"
   ]
  },
  {
   "cell_type": "markdown",
   "metadata": {},
   "source": [
    "We observe that taking the log transformation of the Distance feature has transformed its distribution into a normal one. However, this has not had an impact to the model's performance. Based on the RMSE and $R^2$ results on the training and test set, we see that the performance of the model has not been improved by taking the log transformation of the Distance feature. In fact, RMSE is slightly higher and $R^2$ slighlty lower in the test set compared to results in Q1.5. "
   ]
  },
  {
   "cell_type": "markdown",
   "metadata": {},
   "source": [
    "\\pagebreak"
   ]
  },
  {
   "cell_type": "markdown",
   "metadata": {},
   "source": [
    "# Part 2 Naive Bayes\n",
    "\n",
    "### Income dataset\n",
    "\n",
    "The aim of this task is to predict whether a United States person has income over \\$50,000. The dataset is derived from the [1994 US census data](https://archive.ics.uci.edu/ml/datasets/Adult).\n",
    "\n",
    "***Attribute description:***\n",
    "\n",
    "attributes in _italics_ are ones we will not use\n",
    "\n",
    "- _age: age in years_\n",
    "- work: working status\n",
    "- _fnlwgt: weighting factor_\n",
    "- edu: education level\n",
    "- _edunum: years of education_\n",
    "- marit: marital-status\n",
    "- occ: occupation\n",
    "- rel: relationship status\n",
    "- race: race.\n",
    "- sex: sex\n",
    "- _cg: capital-gains_\n",
    "- _cl: capital-losses_\n",
    "- _hours: hours of work per week_\n",
    "- over50k: income over $50,000\n"
   ]
  },
  {
   "cell_type": "markdown",
   "metadata": {},
   "source": [
    "\\pagebreak"
   ]
  },
  {
   "cell_type": "markdown",
   "metadata": {},
   "source": [
    "# ========== 2.1 =========="
   ]
  },
  {
   "cell_type": "markdown",
   "metadata": {},
   "source": [
    "(1) Why is the Naive Bayes method called that?  What is \"naive\" about it and what is Bayesian about it?"
   ]
  },
  {
   "cell_type": "markdown",
   "metadata": {},
   "source": [
    "***Answer***\n",
    "\n",
    "The Naive Bayes method is a classification method which is based on using Bayes rule to calculate the probability of a class given a set of observations. What is Bayesian about it is that it is a probabilistic classification method that makes use of Bayes rule. What is \"naive\" about it is the fact that it assumes conditional independence between the features given a specific class. "
   ]
  },
  {
   "cell_type": "markdown",
   "metadata": {},
   "source": [
    "(2) Read in the income data (income.csv) and name it income.  Remove attributes we won't use (in _italics_ in the list above), and remove instances with missing data."
   ]
  },
  {
   "cell_type": "code",
   "execution_count": 24,
   "metadata": {},
   "outputs": [
    {
     "name": "stdout",
     "output_type": "stream",
     "text": [
      "Number of data points in income set: 32561\n",
      "Number of attributes in income set: 15\n"
     ]
    }
   ],
   "source": [
    "#(2)\n",
    "# Load the dataset\n",
    "data_path = os.path.join(os.getcwd(), 'datasets', 'income.csv')\n",
    "income = pd.read_csv(data_path, delimiter=',')\n",
    "\n",
    "# Display number of data points and number of attributes\n",
    "print('Number of data points in income set: {}'.format(income.shape[0]))\n",
    "print('Number of attributes in income set: {}'.format(income.shape[1]))"
   ]
  },
  {
   "cell_type": "code",
   "execution_count": 25,
   "metadata": {},
   "outputs": [
    {
     "data": {
      "text/html": [
       "<div>\n",
       "<style scoped>\n",
       "    .dataframe tbody tr th:only-of-type {\n",
       "        vertical-align: middle;\n",
       "    }\n",
       "\n",
       "    .dataframe tbody tr th {\n",
       "        vertical-align: top;\n",
       "    }\n",
       "\n",
       "    .dataframe thead th {\n",
       "        text-align: right;\n",
       "    }\n",
       "</style>\n",
       "<table border=\"1\" class=\"dataframe\">\n",
       "  <thead>\n",
       "    <tr style=\"text-align: right;\">\n",
       "      <th></th>\n",
       "      <th>age</th>\n",
       "      <th>work</th>\n",
       "      <th>fnlwgt</th>\n",
       "      <th>edu</th>\n",
       "      <th>edunum</th>\n",
       "      <th>marital</th>\n",
       "      <th>occ</th>\n",
       "      <th>rel</th>\n",
       "      <th>race</th>\n",
       "      <th>sex</th>\n",
       "      <th>cg</th>\n",
       "      <th>cl</th>\n",
       "      <th>hours</th>\n",
       "      <th>nat</th>\n",
       "      <th>over50k</th>\n",
       "    </tr>\n",
       "  </thead>\n",
       "  <tbody>\n",
       "    <tr>\n",
       "      <th>0</th>\n",
       "      <td>39</td>\n",
       "      <td>State-gov</td>\n",
       "      <td>77516</td>\n",
       "      <td>Bachelors</td>\n",
       "      <td>13</td>\n",
       "      <td>Never-married</td>\n",
       "      <td>Adm-clerical</td>\n",
       "      <td>Not-in-family</td>\n",
       "      <td>White</td>\n",
       "      <td>Male</td>\n",
       "      <td>2174</td>\n",
       "      <td>0</td>\n",
       "      <td>40</td>\n",
       "      <td>United-States</td>\n",
       "      <td>0</td>\n",
       "    </tr>\n",
       "    <tr>\n",
       "      <th>1</th>\n",
       "      <td>50</td>\n",
       "      <td>Self-emp-not-inc</td>\n",
       "      <td>83311</td>\n",
       "      <td>Bachelors</td>\n",
       "      <td>13</td>\n",
       "      <td>Married-civ-spouse</td>\n",
       "      <td>Exec-managerial</td>\n",
       "      <td>Husband</td>\n",
       "      <td>White</td>\n",
       "      <td>Male</td>\n",
       "      <td>0</td>\n",
       "      <td>0</td>\n",
       "      <td>13</td>\n",
       "      <td>United-States</td>\n",
       "      <td>0</td>\n",
       "    </tr>\n",
       "    <tr>\n",
       "      <th>2</th>\n",
       "      <td>38</td>\n",
       "      <td>Private</td>\n",
       "      <td>215646</td>\n",
       "      <td>HS-grad</td>\n",
       "      <td>9</td>\n",
       "      <td>Divorced</td>\n",
       "      <td>Handlers-cleaners</td>\n",
       "      <td>Not-in-family</td>\n",
       "      <td>White</td>\n",
       "      <td>Male</td>\n",
       "      <td>0</td>\n",
       "      <td>0</td>\n",
       "      <td>40</td>\n",
       "      <td>United-States</td>\n",
       "      <td>0</td>\n",
       "    </tr>\n",
       "    <tr>\n",
       "      <th>3</th>\n",
       "      <td>53</td>\n",
       "      <td>Private</td>\n",
       "      <td>234721</td>\n",
       "      <td>11th</td>\n",
       "      <td>7</td>\n",
       "      <td>Married-civ-spouse</td>\n",
       "      <td>Handlers-cleaners</td>\n",
       "      <td>Husband</td>\n",
       "      <td>Black</td>\n",
       "      <td>Male</td>\n",
       "      <td>0</td>\n",
       "      <td>0</td>\n",
       "      <td>40</td>\n",
       "      <td>United-States</td>\n",
       "      <td>0</td>\n",
       "    </tr>\n",
       "    <tr>\n",
       "      <th>4</th>\n",
       "      <td>28</td>\n",
       "      <td>Private</td>\n",
       "      <td>338409</td>\n",
       "      <td>Bachelors</td>\n",
       "      <td>13</td>\n",
       "      <td>Married-civ-spouse</td>\n",
       "      <td>Prof-specialty</td>\n",
       "      <td>Wife</td>\n",
       "      <td>Black</td>\n",
       "      <td>Female</td>\n",
       "      <td>0</td>\n",
       "      <td>0</td>\n",
       "      <td>40</td>\n",
       "      <td>Cuba</td>\n",
       "      <td>0</td>\n",
       "    </tr>\n",
       "  </tbody>\n",
       "</table>\n",
       "</div>"
      ],
      "text/plain": [
       "   age              work  fnlwgt        edu  edunum             marital  \\\n",
       "0   39         State-gov   77516  Bachelors      13       Never-married   \n",
       "1   50  Self-emp-not-inc   83311  Bachelors      13  Married-civ-spouse   \n",
       "2   38           Private  215646    HS-grad       9            Divorced   \n",
       "3   53           Private  234721       11th       7  Married-civ-spouse   \n",
       "4   28           Private  338409  Bachelors      13  Married-civ-spouse   \n",
       "\n",
       "                 occ            rel   race     sex    cg  cl  hours  \\\n",
       "0       Adm-clerical  Not-in-family  White    Male  2174   0     40   \n",
       "1    Exec-managerial        Husband  White    Male     0   0     13   \n",
       "2  Handlers-cleaners  Not-in-family  White    Male     0   0     40   \n",
       "3  Handlers-cleaners        Husband  Black    Male     0   0     40   \n",
       "4     Prof-specialty           Wife  Black  Female     0   0     40   \n",
       "\n",
       "             nat  over50k  \n",
       "0  United-States        0  \n",
       "1  United-States        0  \n",
       "2  United-States        0  \n",
       "3  United-States        0  \n",
       "4           Cuba        0  "
      ]
     },
     "execution_count": 25,
     "metadata": {},
     "output_type": "execute_result"
    }
   ],
   "source": [
    "# Display the first 5 data points\n",
    "income.head(5)"
   ]
  },
  {
   "cell_type": "code",
   "execution_count": 26,
   "metadata": {},
   "outputs": [
    {
     "data": {
      "text/html": [
       "<div>\n",
       "<style scoped>\n",
       "    .dataframe tbody tr th:only-of-type {\n",
       "        vertical-align: middle;\n",
       "    }\n",
       "\n",
       "    .dataframe tbody tr th {\n",
       "        vertical-align: top;\n",
       "    }\n",
       "\n",
       "    .dataframe thead th {\n",
       "        text-align: right;\n",
       "    }\n",
       "</style>\n",
       "<table border=\"1\" class=\"dataframe\">\n",
       "  <thead>\n",
       "    <tr style=\"text-align: right;\">\n",
       "      <th></th>\n",
       "      <th>age</th>\n",
       "      <th>work</th>\n",
       "      <th>fnlwgt</th>\n",
       "      <th>edu</th>\n",
       "      <th>edunum</th>\n",
       "      <th>marital</th>\n",
       "      <th>occ</th>\n",
       "      <th>rel</th>\n",
       "      <th>race</th>\n",
       "      <th>sex</th>\n",
       "      <th>cg</th>\n",
       "      <th>cl</th>\n",
       "      <th>hours</th>\n",
       "      <th>nat</th>\n",
       "      <th>over50k</th>\n",
       "    </tr>\n",
       "  </thead>\n",
       "  <tbody>\n",
       "    <tr>\n",
       "      <th>count</th>\n",
       "      <td>32561.000000</td>\n",
       "      <td>32561</td>\n",
       "      <td>3.256100e+04</td>\n",
       "      <td>32561</td>\n",
       "      <td>32561.000000</td>\n",
       "      <td>32561</td>\n",
       "      <td>32561</td>\n",
       "      <td>32561</td>\n",
       "      <td>32561</td>\n",
       "      <td>32561</td>\n",
       "      <td>32561.000000</td>\n",
       "      <td>32561.000000</td>\n",
       "      <td>32561.000000</td>\n",
       "      <td>32561</td>\n",
       "      <td>32561.000000</td>\n",
       "    </tr>\n",
       "    <tr>\n",
       "      <th>unique</th>\n",
       "      <td>NaN</td>\n",
       "      <td>9</td>\n",
       "      <td>NaN</td>\n",
       "      <td>16</td>\n",
       "      <td>NaN</td>\n",
       "      <td>7</td>\n",
       "      <td>15</td>\n",
       "      <td>6</td>\n",
       "      <td>5</td>\n",
       "      <td>2</td>\n",
       "      <td>NaN</td>\n",
       "      <td>NaN</td>\n",
       "      <td>NaN</td>\n",
       "      <td>42</td>\n",
       "      <td>NaN</td>\n",
       "    </tr>\n",
       "    <tr>\n",
       "      <th>top</th>\n",
       "      <td>NaN</td>\n",
       "      <td>Private</td>\n",
       "      <td>NaN</td>\n",
       "      <td>HS-grad</td>\n",
       "      <td>NaN</td>\n",
       "      <td>Married-civ-spouse</td>\n",
       "      <td>Prof-specialty</td>\n",
       "      <td>Husband</td>\n",
       "      <td>White</td>\n",
       "      <td>Male</td>\n",
       "      <td>NaN</td>\n",
       "      <td>NaN</td>\n",
       "      <td>NaN</td>\n",
       "      <td>United-States</td>\n",
       "      <td>NaN</td>\n",
       "    </tr>\n",
       "    <tr>\n",
       "      <th>freq</th>\n",
       "      <td>NaN</td>\n",
       "      <td>22696</td>\n",
       "      <td>NaN</td>\n",
       "      <td>10501</td>\n",
       "      <td>NaN</td>\n",
       "      <td>14976</td>\n",
       "      <td>4140</td>\n",
       "      <td>13193</td>\n",
       "      <td>27816</td>\n",
       "      <td>21790</td>\n",
       "      <td>NaN</td>\n",
       "      <td>NaN</td>\n",
       "      <td>NaN</td>\n",
       "      <td>29170</td>\n",
       "      <td>NaN</td>\n",
       "    </tr>\n",
       "    <tr>\n",
       "      <th>mean</th>\n",
       "      <td>38.581647</td>\n",
       "      <td>NaN</td>\n",
       "      <td>1.897784e+05</td>\n",
       "      <td>NaN</td>\n",
       "      <td>10.080679</td>\n",
       "      <td>NaN</td>\n",
       "      <td>NaN</td>\n",
       "      <td>NaN</td>\n",
       "      <td>NaN</td>\n",
       "      <td>NaN</td>\n",
       "      <td>1077.648844</td>\n",
       "      <td>87.303830</td>\n",
       "      <td>40.437456</td>\n",
       "      <td>NaN</td>\n",
       "      <td>0.240810</td>\n",
       "    </tr>\n",
       "    <tr>\n",
       "      <th>std</th>\n",
       "      <td>13.640433</td>\n",
       "      <td>NaN</td>\n",
       "      <td>1.055500e+05</td>\n",
       "      <td>NaN</td>\n",
       "      <td>2.572720</td>\n",
       "      <td>NaN</td>\n",
       "      <td>NaN</td>\n",
       "      <td>NaN</td>\n",
       "      <td>NaN</td>\n",
       "      <td>NaN</td>\n",
       "      <td>7385.292085</td>\n",
       "      <td>402.960219</td>\n",
       "      <td>12.347429</td>\n",
       "      <td>NaN</td>\n",
       "      <td>0.427581</td>\n",
       "    </tr>\n",
       "    <tr>\n",
       "      <th>min</th>\n",
       "      <td>17.000000</td>\n",
       "      <td>NaN</td>\n",
       "      <td>1.228500e+04</td>\n",
       "      <td>NaN</td>\n",
       "      <td>1.000000</td>\n",
       "      <td>NaN</td>\n",
       "      <td>NaN</td>\n",
       "      <td>NaN</td>\n",
       "      <td>NaN</td>\n",
       "      <td>NaN</td>\n",
       "      <td>0.000000</td>\n",
       "      <td>0.000000</td>\n",
       "      <td>1.000000</td>\n",
       "      <td>NaN</td>\n",
       "      <td>0.000000</td>\n",
       "    </tr>\n",
       "    <tr>\n",
       "      <th>25%</th>\n",
       "      <td>28.000000</td>\n",
       "      <td>NaN</td>\n",
       "      <td>1.178270e+05</td>\n",
       "      <td>NaN</td>\n",
       "      <td>9.000000</td>\n",
       "      <td>NaN</td>\n",
       "      <td>NaN</td>\n",
       "      <td>NaN</td>\n",
       "      <td>NaN</td>\n",
       "      <td>NaN</td>\n",
       "      <td>0.000000</td>\n",
       "      <td>0.000000</td>\n",
       "      <td>40.000000</td>\n",
       "      <td>NaN</td>\n",
       "      <td>0.000000</td>\n",
       "    </tr>\n",
       "    <tr>\n",
       "      <th>50%</th>\n",
       "      <td>37.000000</td>\n",
       "      <td>NaN</td>\n",
       "      <td>1.783560e+05</td>\n",
       "      <td>NaN</td>\n",
       "      <td>10.000000</td>\n",
       "      <td>NaN</td>\n",
       "      <td>NaN</td>\n",
       "      <td>NaN</td>\n",
       "      <td>NaN</td>\n",
       "      <td>NaN</td>\n",
       "      <td>0.000000</td>\n",
       "      <td>0.000000</td>\n",
       "      <td>40.000000</td>\n",
       "      <td>NaN</td>\n",
       "      <td>0.000000</td>\n",
       "    </tr>\n",
       "    <tr>\n",
       "      <th>75%</th>\n",
       "      <td>48.000000</td>\n",
       "      <td>NaN</td>\n",
       "      <td>2.370510e+05</td>\n",
       "      <td>NaN</td>\n",
       "      <td>12.000000</td>\n",
       "      <td>NaN</td>\n",
       "      <td>NaN</td>\n",
       "      <td>NaN</td>\n",
       "      <td>NaN</td>\n",
       "      <td>NaN</td>\n",
       "      <td>0.000000</td>\n",
       "      <td>0.000000</td>\n",
       "      <td>45.000000</td>\n",
       "      <td>NaN</td>\n",
       "      <td>0.000000</td>\n",
       "    </tr>\n",
       "    <tr>\n",
       "      <th>max</th>\n",
       "      <td>90.000000</td>\n",
       "      <td>NaN</td>\n",
       "      <td>1.484705e+06</td>\n",
       "      <td>NaN</td>\n",
       "      <td>16.000000</td>\n",
       "      <td>NaN</td>\n",
       "      <td>NaN</td>\n",
       "      <td>NaN</td>\n",
       "      <td>NaN</td>\n",
       "      <td>NaN</td>\n",
       "      <td>99999.000000</td>\n",
       "      <td>4356.000000</td>\n",
       "      <td>99.000000</td>\n",
       "      <td>NaN</td>\n",
       "      <td>1.000000</td>\n",
       "    </tr>\n",
       "  </tbody>\n",
       "</table>\n",
       "</div>"
      ],
      "text/plain": [
       "                 age     work        fnlwgt      edu        edunum  \\\n",
       "count   32561.000000    32561  3.256100e+04    32561  32561.000000   \n",
       "unique           NaN        9           NaN       16           NaN   \n",
       "top              NaN  Private           NaN  HS-grad           NaN   \n",
       "freq             NaN    22696           NaN    10501           NaN   \n",
       "mean       38.581647      NaN  1.897784e+05      NaN     10.080679   \n",
       "std        13.640433      NaN  1.055500e+05      NaN      2.572720   \n",
       "min        17.000000      NaN  1.228500e+04      NaN      1.000000   \n",
       "25%        28.000000      NaN  1.178270e+05      NaN      9.000000   \n",
       "50%        37.000000      NaN  1.783560e+05      NaN     10.000000   \n",
       "75%        48.000000      NaN  2.370510e+05      NaN     12.000000   \n",
       "max        90.000000      NaN  1.484705e+06      NaN     16.000000   \n",
       "\n",
       "                   marital             occ      rel   race    sex  \\\n",
       "count                32561           32561    32561  32561  32561   \n",
       "unique                   7              15        6      5      2   \n",
       "top     Married-civ-spouse  Prof-specialty  Husband  White   Male   \n",
       "freq                 14976            4140    13193  27816  21790   \n",
       "mean                   NaN             NaN      NaN    NaN    NaN   \n",
       "std                    NaN             NaN      NaN    NaN    NaN   \n",
       "min                    NaN             NaN      NaN    NaN    NaN   \n",
       "25%                    NaN             NaN      NaN    NaN    NaN   \n",
       "50%                    NaN             NaN      NaN    NaN    NaN   \n",
       "75%                    NaN             NaN      NaN    NaN    NaN   \n",
       "max                    NaN             NaN      NaN    NaN    NaN   \n",
       "\n",
       "                  cg            cl         hours            nat       over50k  \n",
       "count   32561.000000  32561.000000  32561.000000          32561  32561.000000  \n",
       "unique           NaN           NaN           NaN             42           NaN  \n",
       "top              NaN           NaN           NaN  United-States           NaN  \n",
       "freq             NaN           NaN           NaN          29170           NaN  \n",
       "mean     1077.648844     87.303830     40.437456            NaN      0.240810  \n",
       "std      7385.292085    402.960219     12.347429            NaN      0.427581  \n",
       "min         0.000000      0.000000      1.000000            NaN      0.000000  \n",
       "25%         0.000000      0.000000     40.000000            NaN      0.000000  \n",
       "50%         0.000000      0.000000     40.000000            NaN      0.000000  \n",
       "75%         0.000000      0.000000     45.000000            NaN      0.000000  \n",
       "max     99999.000000   4356.000000     99.000000            NaN      1.000000  "
      ]
     },
     "execution_count": 26,
     "metadata": {},
     "output_type": "execute_result"
    }
   ],
   "source": [
    "# Display descriptive statistics for the whole dataset\n",
    "income.describe(include='all')"
   ]
  },
  {
   "cell_type": "code",
   "execution_count": 27,
   "metadata": {},
   "outputs": [
    {
     "name": "stdout",
     "output_type": "stream",
     "text": [
      "Number of data points in income set: 32561\n",
      "Number of attributes in income set: 9\n"
     ]
    }
   ],
   "source": [
    "# Remove attributes we won't use: age, fnlwgt, edunum, cg, cl, hours\n",
    "income.drop(['age', 'fnlwgt', 'edunum', 'cg', 'cl', 'hours'], axis=1, inplace=True)\n",
    "\n",
    "# Remove instances with missing data\n",
    "income.dropna(axis=0, inplace=True)\n",
    "\n",
    "# Display number of datapoints and attributes after removing attributes and instances with missing data\n",
    "print('Number of data points in income set: {}'.format(income.shape[0]))\n",
    "print('Number of attributes in income set: {}'.format(income.shape[1]))"
   ]
  },
  {
   "cell_type": "markdown",
   "metadata": {},
   "source": [
    "(3) Use a library function to show the attributes, their type, and how many there are of each."
   ]
  },
  {
   "cell_type": "code",
   "execution_count": 28,
   "metadata": {},
   "outputs": [
    {
     "name": "stdout",
     "output_type": "stream",
     "text": [
      "<class 'pandas.core.frame.DataFrame'>\n",
      "Int64Index: 32561 entries, 0 to 32560\n",
      "Data columns (total 9 columns):\n",
      " #   Column   Non-Null Count  Dtype \n",
      "---  ------   --------------  ----- \n",
      " 0   work     32561 non-null  object\n",
      " 1   edu      32561 non-null  object\n",
      " 2   marital  32561 non-null  object\n",
      " 3   occ      32561 non-null  object\n",
      " 4   rel      32561 non-null  object\n",
      " 5   race     32561 non-null  object\n",
      " 6   sex      32561 non-null  object\n",
      " 7   nat      32561 non-null  object\n",
      " 8   over50k  32561 non-null  int64 \n",
      "dtypes: int64(1), object(8)\n",
      "memory usage: 2.5+ MB\n"
     ]
    }
   ],
   "source": [
    "#(3)\n",
    "# Display the attributes, their type and how many instances there are with no missing values\n",
    "income.info(verbose=True)"
   ]
  },
  {
   "cell_type": "markdown",
   "metadata": {},
   "source": [
    "The above table shows that we have 7 attributes that are categorical (`work, edu, marital, occ, rel, race, sex, nat`) and 1 numeric (integer), which is our target variable `over50k`. There are no missing instances as all attributes have 32561 values."
   ]
  },
  {
   "cell_type": "markdown",
   "metadata": {},
   "source": [
    "(4) We'll use the integer attribute as the class to predict.  How many classes are there, and what integer values to they have?"
   ]
  },
  {
   "cell_type": "code",
   "execution_count": 29,
   "metadata": {},
   "outputs": [
    {
     "name": "stdout",
     "output_type": "stream",
     "text": [
      "The target class over50k has 2 classes with values: [0 1]\n",
      "The target class over50k has 24720 instances with value 0 and 7841 instances with value 1\n"
     ]
    }
   ],
   "source": [
    "#(4)\n",
    "# The integer attribute is 'over50k': class to predict\n",
    "# Display the number of classes and what integer values they have\n",
    "unique_vls = np.unique(income['over50k'])\n",
    "nr_vals = len(unique_vls)\n",
    "print('The target class {} has {} classes with values: {}'.format('over50k', nr_vals, unique_vls))\n",
    "\n",
    "# Display the number of instances in each class\n",
    "print('The target class {} has {} instances with value {} and {} instances with value {}'.\n",
    "      format('over50k', income[income['over50k']==0].shape[0], 0, income[income['over50k']==1].shape[0], 1))"
   ]
  },
  {
   "cell_type": "markdown",
   "metadata": {},
   "source": [
    "Use another library function to show details about each of the other attributes (the features), including the frequency of the most prevalent category."
   ]
  },
  {
   "cell_type": "code",
   "execution_count": 30,
   "metadata": {},
   "outputs": [
    {
     "data": {
      "text/html": [
       "<div>\n",
       "<style scoped>\n",
       "    .dataframe tbody tr th:only-of-type {\n",
       "        vertical-align: middle;\n",
       "    }\n",
       "\n",
       "    .dataframe tbody tr th {\n",
       "        vertical-align: top;\n",
       "    }\n",
       "\n",
       "    .dataframe thead th {\n",
       "        text-align: right;\n",
       "    }\n",
       "</style>\n",
       "<table border=\"1\" class=\"dataframe\">\n",
       "  <thead>\n",
       "    <tr style=\"text-align: right;\">\n",
       "      <th></th>\n",
       "      <th>work</th>\n",
       "      <th>edu</th>\n",
       "      <th>marital</th>\n",
       "      <th>occ</th>\n",
       "      <th>rel</th>\n",
       "      <th>race</th>\n",
       "      <th>sex</th>\n",
       "      <th>nat</th>\n",
       "    </tr>\n",
       "  </thead>\n",
       "  <tbody>\n",
       "    <tr>\n",
       "      <th>count</th>\n",
       "      <td>32561</td>\n",
       "      <td>32561</td>\n",
       "      <td>32561</td>\n",
       "      <td>32561</td>\n",
       "      <td>32561</td>\n",
       "      <td>32561</td>\n",
       "      <td>32561</td>\n",
       "      <td>32561</td>\n",
       "    </tr>\n",
       "    <tr>\n",
       "      <th>unique</th>\n",
       "      <td>9</td>\n",
       "      <td>16</td>\n",
       "      <td>7</td>\n",
       "      <td>15</td>\n",
       "      <td>6</td>\n",
       "      <td>5</td>\n",
       "      <td>2</td>\n",
       "      <td>42</td>\n",
       "    </tr>\n",
       "    <tr>\n",
       "      <th>top</th>\n",
       "      <td>Private</td>\n",
       "      <td>HS-grad</td>\n",
       "      <td>Married-civ-spouse</td>\n",
       "      <td>Prof-specialty</td>\n",
       "      <td>Husband</td>\n",
       "      <td>White</td>\n",
       "      <td>Male</td>\n",
       "      <td>United-States</td>\n",
       "    </tr>\n",
       "    <tr>\n",
       "      <th>freq</th>\n",
       "      <td>22696</td>\n",
       "      <td>10501</td>\n",
       "      <td>14976</td>\n",
       "      <td>4140</td>\n",
       "      <td>13193</td>\n",
       "      <td>27816</td>\n",
       "      <td>21790</td>\n",
       "      <td>29170</td>\n",
       "    </tr>\n",
       "  </tbody>\n",
       "</table>\n",
       "</div>"
      ],
      "text/plain": [
       "           work      edu             marital             occ      rel   race  \\\n",
       "count     32561    32561               32561           32561    32561  32561   \n",
       "unique        9       16                   7              15        6      5   \n",
       "top     Private  HS-grad  Married-civ-spouse  Prof-specialty  Husband  White   \n",
       "freq      22696    10501               14976            4140    13193  27816   \n",
       "\n",
       "          sex            nat  \n",
       "count   32561          32561  \n",
       "unique      2             42  \n",
       "top      Male  United-States  \n",
       "freq    21790          29170  "
      ]
     },
     "execution_count": 30,
     "metadata": {},
     "output_type": "execute_result"
    }
   ],
   "source": [
    "#(5)\n",
    "# Extract the features from the income dataset\n",
    "features = income.drop(['over50k'], axis=1)\n",
    "\n",
    "# Set features as categorical type\n",
    "features = features.astype('category')\n",
    "\n",
    "# Display the descriptive statistics for all features\n",
    "features.describe(include='category')"
   ]
  },
  {
   "cell_type": "markdown",
   "metadata": {},
   "source": [
    "In the above table, 'count' indicates the number of instances in each feature, 'unique' indicates the number of unique values, 'top' indicates the most prevalent category for each feature and 'freq' indicates the frequency of the most prevalent category."
   ]
  },
  {
   "cell_type": "markdown",
   "metadata": {},
   "source": [
    "\\pagebreak"
   ]
  },
  {
   "cell_type": "markdown",
   "metadata": {},
   "source": [
    "# ========== 2.2 =========="
   ]
  },
  {
   "cell_type": "markdown",
   "metadata": {},
   "source": [
    "(1) List the feature names. "
   ]
  },
  {
   "cell_type": "code",
   "execution_count": 31,
   "metadata": {},
   "outputs": [
    {
     "name": "stdout",
     "output_type": "stream",
     "text": [
      "The feature names are: ['work' 'edu' 'marital' 'occ' 'rel' 'race' 'sex' 'nat']\n"
     ]
    }
   ],
   "source": [
    "#(1)\n",
    "# List the feature names\n",
    "featnames = features.columns.values\n",
    "print('The feature names are: {}'.format(featnames))"
   ]
  },
  {
   "cell_type": "markdown",
   "metadata": {},
   "source": [
    "(2) Use seaborn functions to show a bar chart for each of the features of the number of instances with each attribute value, with distinct counts for each target class shown side by side."
   ]
  },
  {
   "cell_type": "code",
   "execution_count": 32,
   "metadata": {},
   "outputs": [
    {
     "data": {
      "image/png": "[encoded data removed]",
      "text/plain": [
       "<Figure size 576x1440 with 8 Axes>"
      ]
     },
     "metadata": {
      "needs_background": "light"
     },
     "output_type": "display_data"
    }
   ],
   "source": [
    "#(2)\n",
    "# Display a bar chart for each of the features of the number of instances with each attribute value\n",
    "n_feats = len(featnames)\n",
    "fig, axs = plt.subplots(n_feats, 1, figsize=(8,20))\n",
    "\n",
    "for i, feature in enumerate(featnames):\n",
    "    plt.subplot(n_feats, 1, i+1)\n",
    "    sns.countplot(x=feature, data=income, hue='over50k')\n",
    "    plt.xticks(fontsize=8)\n",
    "    plt.legend(labels=['0=Under 50k','1=Over 50k'], fontsize=8)\n",
    "    if feature in ['nat', 'edu', 'occ']:\n",
    "        plt.xticks(fontsize=7, rotation=90)\n",
    "plt.tight_layout()\n",
    "plt.show()"
   ]
  },
  {
   "cell_type": "markdown",
   "metadata": {},
   "source": [
    "(3) Comment on the plots you've created.  Are there rare categories? Do the features look like they will be good for the classification task "
   ]
  },
  {
   "cell_type": "markdown",
   "metadata": {},
   "source": [
    "***Answer***\n",
    "\n",
    "We see that across all attributes there are some category values that are more dominant than others. For example in the `work` attribute the value 'Private' is much more common than the others and values 'Without Pay' and 'Never worked' are very rare. <br>\n",
    "We also see that instances of the target class (`over50k`) are not balanced between categories. For example, looking at the Relationship status attribute `rel`, the values for 'Husband' and 'Wife' are relatively equally split between those achieving over 50k and those achieving under 50k. On the other hand for those 'Not in family' the vast majority doesn't achieve over 50k. <br>\n",
    "Overall, the target class 0 (under 50k) is dominant across all feature values and instances of class 1 (over 50k) are much rarer across features. The class imbalance distribution which is present in all features could be a challenge for the classification task, however it is not so extreme so we would expect a classifier model to still be able to learn characteristics of the non-dominant class and perform well. This means that although feature values show an imbalance towards one class, we would still expect them to be good for the classification task."
   ]
  },
  {
   "cell_type": "markdown",
   "metadata": {},
   "source": [
    "\\pagebreak"
   ]
  },
  {
   "cell_type": "markdown",
   "metadata": {},
   "source": [
    "# ========== 2.3 =========="
   ]
  },
  {
   "cell_type": "markdown",
   "metadata": {},
   "source": [
    "(1) Set ***target_encoded*** to be the array of class values, and show the values for ten of the instances."
   ]
  },
  {
   "cell_type": "code",
   "execution_count": 33,
   "metadata": {},
   "outputs": [
    {
     "data": {
      "text/plain": [
       "array([0, 0, 0, 0, 0, 0, 0, 1, 1, 1])"
      ]
     },
     "execution_count": 33,
     "metadata": {},
     "output_type": "execute_result"
    }
   ],
   "source": [
    "#(1)\n",
    "# Set the array of class values\n",
    "target_encoded = income['over50k'].values\n",
    "\n",
    "# Display the values for the first 10 instances\n",
    "target_encoded[:10]"
   ]
  },
  {
   "cell_type": "markdown",
   "metadata": {},
   "source": [
    "(2) Use OrdinalEncoder to transform the categorical feature values to numeric values"
   ]
  },
  {
   "cell_type": "code",
   "execution_count": 34,
   "metadata": {},
   "outputs": [],
   "source": [
    "#(2)\n",
    "# Transform the categorical feature values to numeric values using OrdinalEncoder\n",
    "# Transform into integer values\n",
    "enc = OrdinalEncoder(dtype=np.int64)\n",
    "enc.fit(features.values)\n",
    "features_encoded = enc.transform(X=features.values)"
   ]
  },
  {
   "cell_type": "markdown",
   "metadata": {},
   "source": [
    "Although our categorical features don't have ordinal characteristics, the OrdinalEncoder helps to transform the feature values into numeric form. Each feature is represented by a value of 0..n-1 where n is the number of discrete categories for that feature. For example the feature `work` takes 9 unique values so we expect its values to range from 0 to 8."
   ]
  },
  {
   "cell_type": "markdown",
   "metadata": {},
   "source": [
    "(3) Store the encodings in a data frame called income_encoded.  Show the feature values for the first five instances. "
   ]
  },
  {
   "cell_type": "code",
   "execution_count": 35,
   "metadata": {},
   "outputs": [
    {
     "data": {
      "text/html": [
       "<div>\n",
       "<style scoped>\n",
       "    .dataframe tbody tr th:only-of-type {\n",
       "        vertical-align: middle;\n",
       "    }\n",
       "\n",
       "    .dataframe tbody tr th {\n",
       "        vertical-align: top;\n",
       "    }\n",
       "\n",
       "    .dataframe thead th {\n",
       "        text-align: right;\n",
       "    }\n",
       "</style>\n",
       "<table border=\"1\" class=\"dataframe\">\n",
       "  <thead>\n",
       "    <tr style=\"text-align: right;\">\n",
       "      <th></th>\n",
       "      <th>work</th>\n",
       "      <th>edu</th>\n",
       "      <th>marital</th>\n",
       "      <th>occ</th>\n",
       "      <th>rel</th>\n",
       "      <th>race</th>\n",
       "      <th>sex</th>\n",
       "      <th>nat</th>\n",
       "    </tr>\n",
       "  </thead>\n",
       "  <tbody>\n",
       "    <tr>\n",
       "      <th>0</th>\n",
       "      <td>7</td>\n",
       "      <td>9</td>\n",
       "      <td>4</td>\n",
       "      <td>1</td>\n",
       "      <td>1</td>\n",
       "      <td>4</td>\n",
       "      <td>1</td>\n",
       "      <td>39</td>\n",
       "    </tr>\n",
       "    <tr>\n",
       "      <th>1</th>\n",
       "      <td>6</td>\n",
       "      <td>9</td>\n",
       "      <td>2</td>\n",
       "      <td>4</td>\n",
       "      <td>0</td>\n",
       "      <td>4</td>\n",
       "      <td>1</td>\n",
       "      <td>39</td>\n",
       "    </tr>\n",
       "    <tr>\n",
       "      <th>2</th>\n",
       "      <td>4</td>\n",
       "      <td>11</td>\n",
       "      <td>0</td>\n",
       "      <td>6</td>\n",
       "      <td>1</td>\n",
       "      <td>4</td>\n",
       "      <td>1</td>\n",
       "      <td>39</td>\n",
       "    </tr>\n",
       "    <tr>\n",
       "      <th>3</th>\n",
       "      <td>4</td>\n",
       "      <td>1</td>\n",
       "      <td>2</td>\n",
       "      <td>6</td>\n",
       "      <td>0</td>\n",
       "      <td>2</td>\n",
       "      <td>1</td>\n",
       "      <td>39</td>\n",
       "    </tr>\n",
       "    <tr>\n",
       "      <th>4</th>\n",
       "      <td>4</td>\n",
       "      <td>9</td>\n",
       "      <td>2</td>\n",
       "      <td>10</td>\n",
       "      <td>5</td>\n",
       "      <td>2</td>\n",
       "      <td>0</td>\n",
       "      <td>5</td>\n",
       "    </tr>\n",
       "  </tbody>\n",
       "</table>\n",
       "</div>"
      ],
      "text/plain": [
       "   work  edu  marital  occ  rel  race  sex  nat\n",
       "0     7    9        4    1    1     4    1   39\n",
       "1     6    9        2    4    0     4    1   39\n",
       "2     4   11        0    6    1     4    1   39\n",
       "3     4    1        2    6    0     2    1   39\n",
       "4     4    9        2   10    5     2    0    5"
      ]
     },
     "execution_count": 35,
     "metadata": {},
     "output_type": "execute_result"
    }
   ],
   "source": [
    "#(3)\n",
    "# Store feature encodings in a new dataframe\n",
    "income_encoded = pd.DataFrame(data=features_encoded, columns=features.columns, index=features.index)\n",
    "\n",
    "# Display feature values for the first 5 instances\n",
    "income_encoded.head(5)"
   ]
  },
  {
   "cell_type": "code",
   "execution_count": 36,
   "metadata": {},
   "outputs": [
    {
     "data": {
      "text/html": [
       "<div>\n",
       "<style scoped>\n",
       "    .dataframe tbody tr th:only-of-type {\n",
       "        vertical-align: middle;\n",
       "    }\n",
       "\n",
       "    .dataframe tbody tr th {\n",
       "        vertical-align: top;\n",
       "    }\n",
       "\n",
       "    .dataframe thead th {\n",
       "        text-align: right;\n",
       "    }\n",
       "</style>\n",
       "<table border=\"1\" class=\"dataframe\">\n",
       "  <thead>\n",
       "    <tr style=\"text-align: right;\">\n",
       "      <th></th>\n",
       "      <th>work</th>\n",
       "      <th>edu</th>\n",
       "      <th>marital</th>\n",
       "      <th>occ</th>\n",
       "      <th>rel</th>\n",
       "      <th>race</th>\n",
       "      <th>sex</th>\n",
       "      <th>nat</th>\n",
       "    </tr>\n",
       "  </thead>\n",
       "  <tbody>\n",
       "    <tr>\n",
       "      <th>count</th>\n",
       "      <td>32561.000000</td>\n",
       "      <td>32561.000000</td>\n",
       "      <td>32561.000000</td>\n",
       "      <td>32561.000000</td>\n",
       "      <td>32561.000000</td>\n",
       "      <td>32561.000000</td>\n",
       "      <td>32561.000000</td>\n",
       "      <td>32561.000000</td>\n",
       "    </tr>\n",
       "    <tr>\n",
       "      <th>mean</th>\n",
       "      <td>3.868892</td>\n",
       "      <td>10.298210</td>\n",
       "      <td>2.611836</td>\n",
       "      <td>6.572740</td>\n",
       "      <td>1.446362</td>\n",
       "      <td>3.665858</td>\n",
       "      <td>0.669205</td>\n",
       "      <td>36.718866</td>\n",
       "    </tr>\n",
       "    <tr>\n",
       "      <th>std</th>\n",
       "      <td>1.455960</td>\n",
       "      <td>3.870264</td>\n",
       "      <td>1.506222</td>\n",
       "      <td>4.228857</td>\n",
       "      <td>1.606771</td>\n",
       "      <td>0.848806</td>\n",
       "      <td>0.470506</td>\n",
       "      <td>7.823782</td>\n",
       "    </tr>\n",
       "    <tr>\n",
       "      <th>min</th>\n",
       "      <td>0.000000</td>\n",
       "      <td>0.000000</td>\n",
       "      <td>0.000000</td>\n",
       "      <td>0.000000</td>\n",
       "      <td>0.000000</td>\n",
       "      <td>0.000000</td>\n",
       "      <td>0.000000</td>\n",
       "      <td>0.000000</td>\n",
       "    </tr>\n",
       "    <tr>\n",
       "      <th>25%</th>\n",
       "      <td>4.000000</td>\n",
       "      <td>9.000000</td>\n",
       "      <td>2.000000</td>\n",
       "      <td>3.000000</td>\n",
       "      <td>0.000000</td>\n",
       "      <td>4.000000</td>\n",
       "      <td>0.000000</td>\n",
       "      <td>39.000000</td>\n",
       "    </tr>\n",
       "    <tr>\n",
       "      <th>50%</th>\n",
       "      <td>4.000000</td>\n",
       "      <td>11.000000</td>\n",
       "      <td>2.000000</td>\n",
       "      <td>7.000000</td>\n",
       "      <td>1.000000</td>\n",
       "      <td>4.000000</td>\n",
       "      <td>1.000000</td>\n",
       "      <td>39.000000</td>\n",
       "    </tr>\n",
       "    <tr>\n",
       "      <th>75%</th>\n",
       "      <td>4.000000</td>\n",
       "      <td>12.000000</td>\n",
       "      <td>4.000000</td>\n",
       "      <td>10.000000</td>\n",
       "      <td>3.000000</td>\n",
       "      <td>4.000000</td>\n",
       "      <td>1.000000</td>\n",
       "      <td>39.000000</td>\n",
       "    </tr>\n",
       "    <tr>\n",
       "      <th>max</th>\n",
       "      <td>8.000000</td>\n",
       "      <td>15.000000</td>\n",
       "      <td>6.000000</td>\n",
       "      <td>14.000000</td>\n",
       "      <td>5.000000</td>\n",
       "      <td>4.000000</td>\n",
       "      <td>1.000000</td>\n",
       "      <td>41.000000</td>\n",
       "    </tr>\n",
       "  </tbody>\n",
       "</table>\n",
       "</div>"
      ],
      "text/plain": [
       "               work           edu       marital           occ           rel  \\\n",
       "count  32561.000000  32561.000000  32561.000000  32561.000000  32561.000000   \n",
       "mean       3.868892     10.298210      2.611836      6.572740      1.446362   \n",
       "std        1.455960      3.870264      1.506222      4.228857      1.606771   \n",
       "min        0.000000      0.000000      0.000000      0.000000      0.000000   \n",
       "25%        4.000000      9.000000      2.000000      3.000000      0.000000   \n",
       "50%        4.000000     11.000000      2.000000      7.000000      1.000000   \n",
       "75%        4.000000     12.000000      4.000000     10.000000      3.000000   \n",
       "max        8.000000     15.000000      6.000000     14.000000      5.000000   \n",
       "\n",
       "               race           sex           nat  \n",
       "count  32561.000000  32561.000000  32561.000000  \n",
       "mean       3.665858      0.669205     36.718866  \n",
       "std        0.848806      0.470506      7.823782  \n",
       "min        0.000000      0.000000      0.000000  \n",
       "25%        4.000000      0.000000     39.000000  \n",
       "50%        4.000000      1.000000     39.000000  \n",
       "75%        4.000000      1.000000     39.000000  \n",
       "max        4.000000      1.000000     41.000000  "
      ]
     },
     "execution_count": 36,
     "metadata": {},
     "output_type": "execute_result"
    }
   ],
   "source": [
    "# Also verify the encoding of features by looking at the descriptive statistics of income_encoded\n",
    "income_encoded.describe()"
   ]
  },
  {
   "cell_type": "markdown",
   "metadata": {},
   "source": [
    "\\pagebreak"
   ]
  },
  {
   "cell_type": "markdown",
   "metadata": {},
   "source": [
    "# ========== 2.4 =========="
   ]
  },
  {
   "cell_type": "markdown",
   "metadata": {},
   "source": [
    "(1) Set ***X*** to be the data frame of independent variables, and ***y*** the array of dependent variables. Split the data into training and test sets using ***test_train_split***, with a testing fraction of 20%, and setting the random state to zero for consistency."
   ]
  },
  {
   "cell_type": "code",
   "execution_count": 37,
   "metadata": {},
   "outputs": [
    {
     "name": "stdout",
     "output_type": "stream",
     "text": [
      "Number of instances in X set: 32561\n",
      "Number of instances in X_train set: 26048\n",
      "Number of instances in X_test set: 6513\n",
      "Number of instances together in X_train and X_test set: 32561\n"
     ]
    }
   ],
   "source": [
    "#(1)\n",
    "# Extract data for classification\n",
    "X = income_encoded.values\n",
    "y = target_encoded\n",
    "\n",
    "# Split the dataset in training and test set with the test set being 20% of the entire data\n",
    "X_train, X_test, y_train, y_test = train_test_split(X, y, test_size=0.2, random_state=0)\n",
    "\n",
    "# Check the split of the dataset in training and test sets \n",
    "print('Number of instances in X set: {}'.format(X.shape[0]))\n",
    "print('Number of instances in X_train set: {}'.format(X_train.shape[0]))\n",
    "print('Number of instances in X_test set: {}'.format(X_test.shape[0]))\n",
    "print('Number of instances together in X_train and X_test set: {}'.format(X_train.shape[0]+X_test.shape[0]))"
   ]
  },
  {
   "cell_type": "markdown",
   "metadata": {},
   "source": [
    "(2) A simple baseline for classification tasks is to always predict the most common class in the training set (highest prior probability).  Print the class with the highest prior probability.  Create an array of predictions on the training set you just made, according to this baseline, and show the following performance statistics: number of missclassified instances, accuracy, F1, precision, recall."
   ]
  },
  {
   "cell_type": "code",
   "execution_count": 38,
   "metadata": {},
   "outputs": [
    {
     "name": "stdout",
     "output_type": "stream",
     "text": [
      "The most common class in the training set is: 0\n"
     ]
    }
   ],
   "source": [
    "#(2)\n",
    "# Find and display the most common class in the training set\n",
    "mostcommon = np.argmax(np.bincount(y_train))\n",
    "print('The most common class in the training set is: {}'.format(mostcommon))"
   ]
  },
  {
   "cell_type": "code",
   "execution_count": 39,
   "metadata": {},
   "outputs": [
    {
     "name": "stdout",
     "output_type": "stream",
     "text": [
      "The number of misclassified instances for the baseline predictor is: 6246\n",
      "Accuracy score for baseline: 0.760\n",
      "F1 score for baseline: 0.000\n",
      "Presision score for baseline: 0.000\n",
      "Recall score for baseline: 0.000\n"
     ]
    }
   ],
   "source": [
    "# Create an array of predictions according to the baseline (most common class)\n",
    "baseline_pred = np.full(y_train.shape, mostcommon)\n",
    "\n",
    "# Show performance statistics for the baseline in the training set\n",
    "print('The number of misclassified instances for the baseline predictor is: {:.0f}'\n",
    "      .format(len(y_train)-accuracy_score(y_train, baseline_pred, normalize=False)))\n",
    "print('Accuracy score for baseline: {:.3f}'.format(accuracy_score(y_train, baseline_pred)))\n",
    "print('F1 score for baseline: {:.3f}'.format(f1_score(y_train, baseline_pred)))\n",
    "print('Presision score for baseline: {:.3f}'.format(precision_score(y_train, baseline_pred)))\n",
    "print('Recall score for baseline: {:.3f}'.format(recall_score(y_train, baseline_pred)))"
   ]
  },
  {
   "cell_type": "markdown",
   "metadata": {},
   "source": [
    "The default settings in `sklearn` when calculating the F1 score, precision score and recall score (shown above) assume that classes are binary (`average='binary'`) and that we are interested in how well our model can predict the positive class (assuming as positive class, class=1). In our case, this means that results are reported only for class 1=over50k. This is not the desired evaluation scheme: there are indeed two classes (0:under50k and 1:over50k), however there is no \"positive\" class, and we want to evaluate how well the model predicts both classes. We achieve this by reporting the performance scores (F1, precision, recall) with setting `average='macro'`, which calculates the metrics for each class separately and then finds their unweighted mean."
   ]
  },
  {
   "cell_type": "code",
   "execution_count": 40,
   "metadata": {},
   "outputs": [
    {
     "name": "stdout",
     "output_type": "stream",
     "text": [
      "Taking into account both classes (0=under50k, 1=over50k), the new performance metrics are:\n",
      "The number of misclassified instances for the baseline predictor is: 6246\n",
      "Accuracy score for baseline: 0.760\n",
      "F1 score for baseline: 0.432\n",
      "Presision score for baseline: 0.380\n",
      "Recall score for baseline: 0.500\n"
     ]
    }
   ],
   "source": [
    "# Show performance metrics for the baseline predictor taking into account both classes\n",
    "# Misclassified instances and accuracy score are not affected by this\n",
    "print('Taking into account both classes (0=under50k, 1=over50k), the new performance metrics are:')\n",
    "print('The number of misclassified instances for the baseline predictor is: {:.0f}'\n",
    "      .format(len(y_train)-accuracy_score(y_train, baseline_pred, normalize=False)))\n",
    "print('Accuracy score for baseline: {:.3f}'.format(accuracy_score(y_train, baseline_pred)))\n",
    "print('F1 score for baseline: {:.3f}'.format(f1_score(y_train, baseline_pred, average='macro')))\n",
    "print('Presision score for baseline: {:.3f}'.format(precision_score(y_train, baseline_pred, average='macro')))\n",
    "print('Recall score for baseline: {:.3f}'.format(recall_score(y_train, baseline_pred, average='macro')))"
   ]
  },
  {
   "cell_type": "markdown",
   "metadata": {},
   "source": [
    "3. Create a confusion matrix between the training targets for the baseline predictor, and the normalised confusion matrix.  Display the confusion matrix.  Also display the normalised confusion matrix as an annotated heatmap. ***Hint:*** Use the plot_confusion_matrix function from the labs for the heatmap."
   ]
  },
  {
   "cell_type": "code",
   "execution_count": 41,
   "metadata": {},
   "outputs": [
    {
     "name": "stdout",
     "output_type": "stream",
     "text": [
      "The confusion matrix for the baseline predictor is: \n",
      " [[19802     0]\n",
      " [ 6246     0]]\n"
     ]
    }
   ],
   "source": [
    "#(3)\n",
    "# Create and display the confusion matrix\n",
    "baseline_cm = confusion_matrix(y_train, baseline_pred)\n",
    "print('The confusion matrix for the baseline predictor is: \\n', baseline_cm)"
   ]
  },
  {
   "cell_type": "code",
   "execution_count": 42,
   "metadata": {},
   "outputs": [],
   "source": [
    "def plot_confusion_matrix(cm, classes=None, title='Confusion matrix'):\n",
    "    \"\"\"Plots a confusion matrix.\"\"\"\n",
    "    if classes is not None:\n",
    "        sns.heatmap(cm, xticklabels=classes, yticklabels=classes, vmin=0., vmax=1., annot=True)\n",
    "    else:\n",
    "        sns.heatmap(cm, vmin=0., vmax=1.)\n",
    "    plt.title(title)\n",
    "    plt.ylabel('True label')\n",
    "    plt.xlabel('Predicted label')"
   ]
  },
  {
   "cell_type": "code",
   "execution_count": 43,
   "metadata": {},
   "outputs": [
    {
     "data": {
      "image/png": "[encoded data removed]",
      "text/plain": [
       "<Figure size 432x288 with 2 Axes>"
      ]
     },
     "metadata": {
      "needs_background": "light"
     },
     "output_type": "display_data"
    }
   ],
   "source": [
    "# Find and plot the normalised confusion matrix for the baseline predictor\n",
    "baseline_cm_norm = baseline_cm / baseline_cm.sum(axis=1)[:, np.newaxis]\n",
    "plot_confusion_matrix(baseline_cm_norm, classes=np.unique(y_train), title='Baseline predictor confusion matrix')"
   ]
  },
  {
   "cell_type": "markdown",
   "metadata": {},
   "source": [
    "(4) Comment on what you see in the statistics from (2) and the confusion matrices in (3)"
   ]
  },
  {
   "cell_type": "markdown",
   "metadata": {},
   "source": [
    "(4) ***Answer***\n",
    "\n",
    "The baseline predictor performs well in terms of accuracy (76%), however this is not a suitable measure of 'goodness' as we have seen that our classes are imbalanced (we have more instances of class 0=under50k than class 1=over50k). Recall rate, precision rate and F1-score are more appropriate evaluation metrics in this case.<br>\n",
    "The recall, precision rate and F1 scores when considering only class 1 are 0 as the number of True Positives (TP) is 0. The baseline predictor makes no predictions of class/label 1 and this is also evident in the confusion matrices (zeros for Predicted label 1). <br>\n",
    "The recall, precision rate and F1 scores when considering both classes (`average='macro'`) are not zero. The recall rate is 50%, because it is the average of the recall rate for the two classes: 100% for class 0 and 0% for class 1. Similarly, the precision rate is 38%, the average of the precision rate for the two classes: 76% for class 0 and 0% for class 1. The F1 score is the harmonic mean of the recall and precision rate, which is why it is a value between the two, 43.2%. The difference in scores shows that the latter method of considering both classes (`average='macro'`) is the best way to report performance metrics for this classification task. <br>\n",
    "Finally, the normalised confusion matrix has 1 for True Negatives which makes sense since the baseline only makes predictions for class 0."
   ]
  },
  {
   "cell_type": "markdown",
   "metadata": {},
   "source": [
    "\\pagebreak"
   ]
  },
  {
   "cell_type": "markdown",
   "metadata": {},
   "source": [
    "# ========== 2.5 =========="
   ]
  },
  {
   "cell_type": "markdown",
   "metadata": {},
   "source": [
    "(1) Train a categorical Naive Bayes model on the training data you made,and it's predictions on the same training data."
   ]
  },
  {
   "cell_type": "code",
   "execution_count": 44,
   "metadata": {},
   "outputs": [
    {
     "name": "stdout",
     "output_type": "stream",
     "text": [
      "Class log prior probabilities: [-0.27415805 -1.42799973]\n"
     ]
    }
   ],
   "source": [
    "# (1)\n",
    "# Fit a categorical Naive Bayes classifier on the training data\n",
    "cnb = CategoricalNB()\n",
    "cnb.fit(X_train, y_train)\n",
    "\n",
    "# Display the class log prior probabilities\n",
    "print('Class log prior probabilities: {}'.format(cnb.class_log_prior_))"
   ]
  },
  {
   "cell_type": "markdown",
   "metadata": {},
   "source": [
    "(2) Report the classifier's accuracy, precision and recall and F1 on the training dataset.  Also report the confusion matrix and the normalised confusion matrix for the result."
   ]
  },
  {
   "cell_type": "code",
   "execution_count": 45,
   "metadata": {},
   "outputs": [
    {
     "name": "stdout",
     "output_type": "stream",
     "text": [
      "Accuracy score for CNB in training set: 0.795\n",
      "F1 score for CNB in training set: 0.745\n",
      "Presision score for CNB in training set: 0.731\n",
      "Recall score for CNB in training set: 0.776\n"
     ]
    }
   ],
   "source": [
    "# (2)\n",
    "training_pred = cnb.predict(X=X_train)\n",
    "\n",
    "# Show performance statistics for the Categorical NB based on the training set\n",
    "print('Accuracy score for CNB in training set: {:.3f}'.format(accuracy_score(y_train, training_pred)))\n",
    "print('F1 score for CNB in training set: {:.3f}'.format(f1_score(y_train, training_pred, average='macro')))\n",
    "print('Presision score for CNB in training set: {:.3f}'.format(precision_score(y_train, training_pred, average='macro')))\n",
    "print('Recall score for CNB in training set: {:.3f}'.format(recall_score(y_train, training_pred, average='macro')))"
   ]
  },
  {
   "cell_type": "code",
   "execution_count": 46,
   "metadata": {},
   "outputs": [
    {
     "name": "stdout",
     "output_type": "stream",
     "text": [
      "The confusion matrix for the CNB predictor in the training set is: \n",
      " [[16087  3715]\n",
      " [ 1629  4617]]\n"
     ]
    }
   ],
   "source": [
    "# Create and display the confusion matrix for the CNB in the training set\n",
    "training_cm = confusion_matrix(y_train, training_pred)\n",
    "print('The confusion matrix for the CNB predictor in the training set is: \\n', training_cm)"
   ]
  },
  {
   "cell_type": "code",
   "execution_count": 47,
   "metadata": {},
   "outputs": [
    {
     "data": {
      "image/png": "[encoded data removed]",
      "text/plain": [
       "<Figure size 432x288 with 2 Axes>"
      ]
     },
     "metadata": {
      "needs_background": "light"
     },
     "output_type": "display_data"
    }
   ],
   "source": [
    "# Find and plot the normalised confusion matrix for the CNB predictor on the training set\n",
    "training_cm_norm = training_cm / training_cm.sum(axis=1)[:, np.newaxis]\n",
    "plot_confusion_matrix(training_cm_norm, classes=np.unique(y_train), title='CNB training confusion matrix')"
   ]
  },
  {
   "cell_type": "markdown",
   "metadata": {},
   "source": [
    "3. Interpret the values of the accuracy, F1, precision and recall. Comment on the performance of the model, comparing to the baseline. Is the accuracy a reasonable metric to use for this dataset? Interpret the numbers in the confusion matrix. Does it look like you would expect to find in a \"good\" classifier?"
   ]
  },
  {
   "cell_type": "markdown",
   "metadata": {},
   "source": [
    "***Answer***\n",
    "\n",
    "The accuracy score in the CNB model is very close to the baseline which shows that accuracy is not a good metric here because classes are not balanced. Accuracy is calculated as the number of correctly classified instances divided by the total number of instances. Since our dataset has a lot more instances of class 0=under50k, it is trivial to achieve high accuracy rate by predicting class 0 all the time, which is what the baseline model does.\n",
    "\n",
    "Recall rate, precision rate and F1-score are more appropriate metrics here. Recall rate gives the true positive rate (the proportion of actual positives that we correctly classified) and precision rate gives the proportion of predicted positives that were actual positives. The F1 score is the harmonic mean between recall and precision rates. <br>\n",
    "Recall and precision scores are greatly improved in the CNB model compared to the baseline. The recall rate in the CNB classifier is ~77% compared to 50% in the baseline model and also, the precision rate in our CNB classifier is ~73% compared to 38% in the baseline. These both show that the CNB classifier is a lot better in correctly classifying the classes.\n",
    "\n",
    "Also looking at the normalised confusion matrix, we see that the True Negative (TN) and True Positive (TP) numbers are high: 81% and 74% respectively. This shows that the CNB classifier is good at classifying the true instances on each class 0/1 (under 50k/over 50k). The baseline model was only good at classifying class 0 (the most common class). The False Negatives (FN) are slightly more than the False Positives (FP) - 26% and 19% respectively. This makes sense as there are more instances of class 0 so the CNB classifier is more biased towards that class. <br>\n",
    "Overall, the results for the evaluation metrics (recall, precision, F1 score) and the results of the confusion matrix show that our CNB classifier works well on the training data. We now need to also assess the classifier's performance on unseen data, the test data. "
   ]
  },
  {
   "cell_type": "markdown",
   "metadata": {},
   "source": [
    "\\pagebreak"
   ]
  },
  {
   "cell_type": "markdown",
   "metadata": {},
   "source": [
    "# ========== 2.6 =========="
   ]
  },
  {
   "cell_type": "markdown",
   "metadata": {},
   "source": [
    "(1) Now evaluate the classifier on the testing data you made.  Report the classifier's accuracy, precision and recall and F1 on the testing dataset.  Also report the confusion matrix and the normalised confusion matrix for the result."
   ]
  },
  {
   "cell_type": "code",
   "execution_count": 48,
   "metadata": {},
   "outputs": [
    {
     "name": "stdout",
     "output_type": "stream",
     "text": [
      "Accuracy score for CNB in test set: 0.786\n",
      "F1 score for CNB in test set: 0.737\n",
      "Presision score for CNB in test set: 0.724\n",
      "Recall score for CNB in test set: 0.766\n"
     ]
    }
   ],
   "source": [
    "# (1)\n",
    "test_pred = cnb.predict(X=X_test)\n",
    "\n",
    "# Show performance statistics for the Categorical NB based on the test set\n",
    "print('Accuracy score for CNB in test set: {:.3f}'.format(accuracy_score(y_test, test_pred)))\n",
    "print('F1 score for CNB in test set: {:.3f}'.format(f1_score(y_test, test_pred, average='macro')))\n",
    "print('Presision score for CNB in test set: {:.3f}'.format(precision_score(y_test, test_pred, average='macro')))\n",
    "print('Recall score for CNB in test set: {:.3f}'.format(recall_score(y_test, test_pred, average='macro')))"
   ]
  },
  {
   "cell_type": "code",
   "execution_count": 49,
   "metadata": {},
   "outputs": [
    {
     "name": "stdout",
     "output_type": "stream",
     "text": [
      "The confusion matrix for the CNB predictor in the test set is: \n",
      " [[3957  961]\n",
      " [ 436 1159]]\n"
     ]
    }
   ],
   "source": [
    "# Create and display the confusion matrix for the CNB in the test set\n",
    "test_cm = confusion_matrix(y_test, test_pred)\n",
    "print('The confusion matrix for the CNB predictor in the test set is: \\n', test_cm)"
   ]
  },
  {
   "cell_type": "code",
   "execution_count": 50,
   "metadata": {},
   "outputs": [
    {
     "data": {
      "image/png": "[encoded data removed]",
      "text/plain": [
       "<Figure size 432x288 with 2 Axes>"
      ]
     },
     "metadata": {
      "needs_background": "light"
     },
     "output_type": "display_data"
    }
   ],
   "source": [
    "# Find and plot the normalised confusion matrix for the CNB predictor on the test set\n",
    "test_cm_norm = test_cm / test_cm.sum(axis=1)[:, np.newaxis]\n",
    "plot_confusion_matrix(test_cm_norm, classes=np.unique(y_test), title='CNB test confusion matrix')"
   ]
  },
  {
   "cell_type": "markdown",
   "metadata": {},
   "source": [
    "(2) In a short paragraph (2-3 sentences) compare and comment on the results with the training data."
   ]
  },
  {
   "cell_type": "markdown",
   "metadata": {},
   "source": [
    "(2) ***Answer***\n",
    "\n",
    "Results on the recall rate, precision rate and F1-score in the test set are slightly worse but overall very close to the scores on the training set. This is also verified by comparing the normalised confusion matrices between test and training set. The TP (true positive) and TN (true negative) rates are slightly lower in the test set compared to the training set (0.73 compared to 0.74 and 0.8 compared to 0.81 respectively) and the FP (false positive) and FN (false negative) rates are slightly higher (0.2 compared to 0.19 and 0.27 compared to 0.26 respectively). However, overall the model shows similar performance on the test set as in the training set. This shows that our CNB classifier is not overfitting and is generalising well on unseen data, the test set. "
   ]
  },
  {
   "cell_type": "markdown",
   "metadata": {},
   "source": [
    " (3) Since the categorical data has been encoded as numbers, we could now train a GNB on the data.  Would you expect the GNB to perform better or worse than the CNB, and why?"
   ]
  },
  {
   "cell_type": "markdown",
   "metadata": {},
   "source": [
    "(3) ***Answer***\n",
    "\n",
    "We would expect the GNB classifier to perform worse than the CNB classifier. CNB classifiers assume that features have a categorical distribution, whereas GNB classifiers assume that features have a normal/Gaussian distribution. The input features in our dataset are categorical features which are encoded as numeric in order to be used by the CNB classifier. They are not numeric features that follow a normal distribution and they do not have any valid arithmetic interpretation (comparisons and mathematic operations have no meaning between the encoded feature values), so the GNB classifier would not be appropriate for this data."
   ]
  },
  {
   "cell_type": "markdown",
   "metadata": {},
   "source": [
    "\\pagebreak"
   ]
  }
 ],
 "metadata": {
  "kernelspec": {
   "display_name": "Python 3 (ipykernel)",
   "language": "python",
   "name": "python3"
  },
  "language_info": {
   "codemirror_mode": {
    "name": "ipython",
    "version": 3
   },
   "file_extension": ".py",
   "mimetype": "text/x-python",
   "name": "python",
   "nbconvert_exporter": "python",
   "pygments_lexer": "ipython3",
   "version": "3.9.2"
  }
 },
 "nbformat": 4,
 "nbformat_minor": 2
}
